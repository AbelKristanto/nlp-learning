{
  "nbformat": 4,
  "nbformat_minor": 0,
  "metadata": {
    "colab": {
      "name": "star-product-predictions.ipynb",
      "provenance": [],
      "authorship_tag": "ABX9TyPRAMedKnic3tY23yT2wjg5"
    },
    "kernelspec": {
      "name": "python3",
      "display_name": "Python 3"
    },
    "language_info": {
      "name": "python"
    }
  },
  "cells": [
    {
      "cell_type": "markdown",
      "metadata": {
        "id": "qFhLxtmAJRJm"
      },
      "source": [
        "**Remarks**\n",
        "\n",
        "In this notebook, we will learn about spam-rating-indicator. Yeayy! I used this APIS dataset in e-commerce. Let's started!"
      ]
    },
    {
      "cell_type": "code",
      "metadata": {
        "id": "ZMs-o2vX83zO"
      },
      "source": [
        "# import library\n",
        "# 1. NLP tools\n",
        "import re\n",
        "import spacy\n",
        "from spacy.lang.en.stop_words import STOP_WORDS as stopwords\n",
        "import unicodedata\n",
        "import en_core_web_sm\n",
        "from textblob import TextBlob\n",
        "\n",
        "# 2. Preprocessing tools\n",
        "import pandas as pd\n",
        "import requests\n",
        "from tqdm import tqdm\n",
        "import sys\n",
        "import os\n",
        "import json\n",
        "from bs4 import BeautifulSoup\n",
        "\n",
        "# 3. Visualization\n",
        "import matplotlib.pyplot as plt\n",
        "import seaborn as sns\n",
        "\n",
        "# 4. Modelling\n",
        "from sklearn.model_selection import train_test_split\n",
        "from sklearn.feature_extraction.text import TfidfVectorizer\n",
        "from sklearn.metrics import accuracy_score, confusion_matrix, classification_report\n",
        "from sklearn.svm import LinearSVC"
      ],
      "execution_count": 41,
      "outputs": []
    },
    {
      "cell_type": "code",
      "metadata": {
        "colab": {
          "base_uri": "https://localhost:8080/"
        },
        "id": "nECKNol8JyGN",
        "outputId": "e59ff21f-8be5-488c-aaed-206edb628960"
      },
      "source": [
        "# extracting data from HTML tags\n",
        "dataset_1 = []\n",
        "\n",
        "# iterating for 50 pages of reviews\n",
        "for i in tqdm(range(1,50)):\n",
        "  URL = f\"https://www.flipkart.com/realme-c21-cross-blue-64-gb/product-reviews/itmf4062d3f37c1a?pid=MOBGF4895YRNAHFZ&lid=LSTMOBGF4895YRNAHFZ3XABXU&marketplace=FLIPKART&page={i}\"  \n",
        "  r = requests.get(URL)\n",
        "  soup = BeautifulSoup(r.content, 'html.parser')\n",
        "\n",
        "  cols = soup.find_all('div', attrs={'class':'col _2wzgFH K0kLPL'})\n",
        "\n",
        "  for col in cols:\n",
        "    row = col.find_all('div',attrs={'class':'row'})\n",
        "    rating = row[0].find('div').text\n",
        "    review = row[1].find('div').text\n",
        "  \n",
        "    dataset_1.append({'review': review , 'rating' : rating})\n",
        "\n",
        "print(\"\\nMenghitung jumlah dataset\", len(dataset_1))"
      ],
      "execution_count": 7,
      "outputs": [
        {
          "output_type": "stream",
          "text": [
            "100%|██████████| 49/49 [01:27<00:00,  1.79s/it]"
          ],
          "name": "stderr"
        },
        {
          "output_type": "stream",
          "text": [
            "\n",
            "Menghitung jumlah dataset 436\n"
          ],
          "name": "stdout"
        },
        {
          "output_type": "stream",
          "text": [
            "\n"
          ],
          "name": "stderr"
        }
      ]
    },
    {
      "cell_type": "code",
      "metadata": {
        "colab": {
          "base_uri": "https://localhost:8080/"
        },
        "id": "H18cAxRJM5ib",
        "outputId": "22914109-5ff0-43a2-d057-26bc0f75ed83"
      },
      "source": [
        "# extracting data from HTML tags\n",
        "dataset_2 = []\n",
        "\n",
        "# iterating for 50 pages of reviews\n",
        "for i in tqdm(range(1,50)):\n",
        "  URL = f\"https://www.flipkart.com/realme-x-polar-white-128-gb/product-reviews/itmfgybqzcgbxs26?pid=MOBFGYBQF4HYB25W&lid=LSTMOBFGYBQF4HYB25WZATDKH&marketplace=FLIPKART&page={i}\"  \n",
        "  r = requests.get(URL)\n",
        "  soup = BeautifulSoup(r.content, 'html.parser')\n",
        "\n",
        "  cols = soup.find_all('div', attrs={'class':'col _2wzgFH K0kLPL'})\n",
        "\n",
        "  for col in cols:\n",
        "    row = col.find_all('div',attrs={'class':'row'})\n",
        "    rating = row[0].find('div').text\n",
        "    review = row[1].find('div').text\n",
        "  \n",
        "    dataset_2.append({'review': review , 'rating' : rating})\n",
        "\n",
        "print(\"\\nMenghitung jumlah dataset\", len(dataset_2))"
      ],
      "execution_count": 8,
      "outputs": [
        {
          "output_type": "stream",
          "text": [
            "100%|██████████| 49/49 [01:40<00:00,  2.04s/it]"
          ],
          "name": "stderr"
        },
        {
          "output_type": "stream",
          "text": [
            "\n",
            "Menghitung jumlah dataset 490\n"
          ],
          "name": "stdout"
        },
        {
          "output_type": "stream",
          "text": [
            "\n"
          ],
          "name": "stderr"
        }
      ]
    },
    {
      "cell_type": "code",
      "metadata": {
        "colab": {
          "base_uri": "https://localhost:8080/"
        },
        "id": "tzxkbf2Xea5s",
        "outputId": "300a3f7d-322b-4595-abcf-baa601c7d5a1"
      },
      "source": [
        "# extracting data from HTML tags\n",
        "dataset_3 = []\n",
        "\n",
        "# iterating for 50 pages of reviews\n",
        "for i in tqdm(range(1,50)):\n",
        "  URL = f\"https://www.flipkart.com/realme-c21-cross-black-32-gb/product-reviews/itmf4062d3f37c1a?pid=MOBGF489EUA5PEBK&lid=LSTMOBGF489EUA5PEBKOSO80O&marketplace=FLIPKART&page={i}\"  \n",
        "  r = requests.get(URL)\n",
        "  soup = BeautifulSoup(r.content, 'html.parser')\n",
        "\n",
        "  cols = soup.find_all('div', attrs={'class':'col _2wzgFH K0kLPL'})\n",
        "\n",
        "  for col in cols:\n",
        "    row = col.find_all('div',attrs={'class':'row'})\n",
        "    rating = row[0].find('div').text\n",
        "    review = row[1].find('div').text\n",
        "  \n",
        "    dataset_3.append({'review': review , 'rating' : rating})\n",
        "\n",
        "print(\"\\nMenghitung jumlah dataset\", len(dataset_3))"
      ],
      "execution_count": 9,
      "outputs": [
        {
          "output_type": "stream",
          "text": [
            "100%|██████████| 49/49 [01:33<00:00,  1.90s/it]"
          ],
          "name": "stderr"
        },
        {
          "output_type": "stream",
          "text": [
            "\n",
            "Menghitung jumlah dataset 435\n"
          ],
          "name": "stdout"
        },
        {
          "output_type": "stream",
          "text": [
            "\n"
          ],
          "name": "stderr"
        }
      ]
    },
    {
      "cell_type": "code",
      "metadata": {
        "colab": {
          "base_uri": "https://localhost:8080/",
          "height": 204
        },
        "id": "dHlCwhaafP2C",
        "outputId": "fef87407-1895-4b1b-81cf-67ffcf01d11a"
      },
      "source": [
        "# saving into dataframe\n",
        "df_1 = pd.DataFrame(dataset_1)\n",
        "df_2 = pd.DataFrame(dataset_2)\n",
        "df_3 = pd.DataFrame(dataset_3)\n",
        "\n",
        "df = pd.concat([df_1, df_2, df_3], axis=0).reset_index(drop=True)\n",
        "df.head()"
      ],
      "execution_count": 10,
      "outputs": [
        {
          "output_type": "execute_result",
          "data": {
            "text/html": [
              "<div>\n",
              "<style scoped>\n",
              "    .dataframe tbody tr th:only-of-type {\n",
              "        vertical-align: middle;\n",
              "    }\n",
              "\n",
              "    .dataframe tbody tr th {\n",
              "        vertical-align: top;\n",
              "    }\n",
              "\n",
              "    .dataframe thead th {\n",
              "        text-align: right;\n",
              "    }\n",
              "</style>\n",
              "<table border=\"1\" class=\"dataframe\">\n",
              "  <thead>\n",
              "    <tr style=\"text-align: right;\">\n",
              "      <th></th>\n",
              "      <th>review</th>\n",
              "      <th>rating</th>\n",
              "    </tr>\n",
              "  </thead>\n",
              "  <tbody>\n",
              "    <tr>\n",
              "      <th>0</th>\n",
              "      <td>Really nice phone, delivery is so fast that's ...</td>\n",
              "      <td>5</td>\n",
              "    </tr>\n",
              "    <tr>\n",
              "      <th>1</th>\n",
              "      <td>Really I m in love wth this mobileMobile is ni...</td>\n",
              "      <td>5</td>\n",
              "    </tr>\n",
              "    <tr>\n",
              "      <th>2</th>\n",
              "      <td>Nice 👍😍 very nice fast delivery 🚚 Flipkart nic...</td>\n",
              "      <td>3</td>\n",
              "    </tr>\n",
              "    <tr>\n",
              "      <th>3</th>\n",
              "      <td>realme C21 Camera is not good music is a bit g...</td>\n",
              "      <td>3</td>\n",
              "    </tr>\n",
              "    <tr>\n",
              "      <th>4</th>\n",
              "      <td>Very nice phone very powerful process but came...</td>\n",
              "      <td>4</td>\n",
              "    </tr>\n",
              "  </tbody>\n",
              "</table>\n",
              "</div>"
            ],
            "text/plain": [
              "                                              review rating\n",
              "0  Really nice phone, delivery is so fast that's ...      5\n",
              "1  Really I m in love wth this mobileMobile is ni...      5\n",
              "2  Nice 👍😍 very nice fast delivery 🚚 Flipkart nic...      3\n",
              "3  realme C21 Camera is not good music is a bit g...      3\n",
              "4  Very nice phone very powerful process but came...      4"
            ]
          },
          "metadata": {
            "tags": []
          },
          "execution_count": 10
        }
      ]
    },
    {
      "cell_type": "code",
      "metadata": {
        "colab": {
          "base_uri": "https://localhost:8080/"
        },
        "id": "9NVdQ3K4gIDU",
        "outputId": "232e20a0-9483-4d75-b7b3-1a6b6f89ce7f"
      },
      "source": [
        "print(\"Shape of dataframe\", df.shape)"
      ],
      "execution_count": 11,
      "outputs": [
        {
          "output_type": "stream",
          "text": [
            "Shape of dataframe (1361, 2)\n"
          ],
          "name": "stdout"
        }
      ]
    },
    {
      "cell_type": "code",
      "metadata": {
        "colab": {
          "base_uri": "https://localhost:8080/"
        },
        "id": "cr1cKSuNgT0O",
        "outputId": "812a382e-657b-4b03-beda-dc4b1455e9b1"
      },
      "source": [
        "print(\"Information dataset\")\n",
        "df.info()"
      ],
      "execution_count": 12,
      "outputs": [
        {
          "output_type": "stream",
          "text": [
            "Information dataset\n",
            "<class 'pandas.core.frame.DataFrame'>\n",
            "RangeIndex: 1361 entries, 0 to 1360\n",
            "Data columns (total 2 columns):\n",
            " #   Column  Non-Null Count  Dtype \n",
            "---  ------  --------------  ----- \n",
            " 0   review  1361 non-null   object\n",
            " 1   rating  1361 non-null   object\n",
            "dtypes: object(2)\n",
            "memory usage: 21.4+ KB\n"
          ],
          "name": "stdout"
        }
      ]
    },
    {
      "cell_type": "code",
      "metadata": {
        "colab": {
          "base_uri": "https://localhost:8080/",
          "height": 428
        },
        "id": "zKe8NvCegcPQ",
        "outputId": "debcc175-dc81-45be-db54-e3075ac080e3"
      },
      "source": [
        "# changing type rating\n",
        "df.rating = df.rating.astype(int)\n",
        "plt.figure(figsize=(7,7))\n",
        "ratings = ['1-star', '2-star', '3-star', '4-star', '5-star']\n",
        "numrank = [len(df[df.rating == 1]),\n",
        "           len(df[df.rating == 2]),\n",
        "           len(df[df.rating == 3]),\n",
        "           len(df[df.rating == 4]),\n",
        "           len(df[df.rating == 5])]\n",
        "plt.bar(ratings, numrank)\n",
        "plt.show();"
      ],
      "execution_count": 17,
      "outputs": [
        {
          "output_type": "display_data",
          "data": {
            "image/png": "[encoded data removed]",
            "text/plain": [
              "<Figure size 504x504 with 1 Axes>"
            ]
          },
          "metadata": {
            "tags": [],
            "needs_background": "light"
          }
        }
      ]
    },
    {
      "cell_type": "code",
      "metadata": {
        "colab": {
          "base_uri": "https://localhost:8080/",
          "height": 388
        },
        "id": "6vX9OX3ThEjg",
        "outputId": "d80f4632-550b-420c-ab19-3dd78d7457f1"
      },
      "source": [
        "# distribution of length\n",
        "review_length = pd.DataFrame(df.review.str.len())\n",
        "review_length = review_length[review_length.review < 5000]\n",
        "review_length.groupby(['review'])\n",
        "review_length = review_length.plot(kind='hist', legend=None,\n",
        "                                   bins=50, figsize=(12,6))\n",
        "review_length.set_xlabel(\"Review Length\")\n",
        "review_length.set_ylabel(\"Count\");"
      ],
      "execution_count": 20,
      "outputs": [
        {
          "output_type": "display_data",
          "data": {
            "image/png": "[encoded data removed]",
            "text/plain": [
              "<Figure size 864x432 with 1 Axes>"
            ]
          },
          "metadata": {
            "tags": [],
            "needs_background": "light"
          }
        }
      ]
    },
    {
      "cell_type": "code",
      "metadata": {
        "id": "ben8Fn5QhvwZ"
      },
      "source": [
        "# cleaning data\n",
        "nlp = en_core_web_sm.load()\n",
        "\n",
        "def get_wordcounts(x):\n",
        "  length = len(str(x).split())\n",
        "  return length\n",
        "\n",
        "def get_charcounts(x):\n",
        "  s = x.split()\n",
        "  x = ''.join(s)\n",
        "  return len(x)\n",
        "\n",
        "def get_avg_wordlength(x):\n",
        "  count = get_charcounts(x)/get_wordcounts(x)\n",
        "  return count\n",
        "\n",
        "def get_stopwords_counts(x):\n",
        "  l = len([t for t in x.split() if t in stopwords])\n",
        "  return l\n",
        "\n",
        "def get_hashtag_counts(x):\n",
        "  l = len([t for t in x.split() if t.startswith('#')])\n",
        "  return l\n",
        "\n",
        "def get_mentions_counts(x):\n",
        "  l = len([t for t in x.split() if t.startswith('@')])\n",
        "  return l\n",
        "\n",
        "def get_digit_counts(x):\n",
        "  digits = re.findall(r'[0-9,.]+', x)\n",
        "  return len(digits)\n",
        "\n",
        "def get_uppercase_counts(x):\n",
        "  l = len([t for t in x.split() if t.isupper()])\n",
        "  return l\n",
        "\n",
        "def get_emails(x):\n",
        "  emails = re.findall(r'([a-z0-9+._-]+@[a-z0-9+._-]+\\.[a-z0-9+_-]+\\b)', x)\n",
        "  counts = len(emails)\n",
        "  return counts, emails\n",
        "\n",
        "def remove_emails(x):\n",
        "  remove = re.sub(r'([a-z0-9+._-]+@[a-z0-9+._-]+\\.[a-z0-9+_-]+)',\"\", x)\n",
        "  return remove\n",
        "\n",
        "def get_urls(x):\n",
        "  urls = re.findall(r'(http|https|ftp|ssh)://([\\w_-]+(?:(?:\\.[\\w_-]+)+))([\\w.,@?^=%&:/~+#-]*[\\w@?^=%&/~+#-])?', x)\n",
        "  counts = len(urls)\n",
        "  return counts, urls\n",
        "\n",
        "def remove_urls(x):\n",
        "  remove = re.sub(r'(http|https|ftp|ssh)://([\\w_-]+(?:(?:\\.[\\w_-]+)+))([\\w.,@?^=%&:/~+#-]*[\\w@?^=%&/~+#-])?', '' , x)\n",
        "  return remove\n",
        "\n",
        "def remove_rt(x):\n",
        "  rt = re.sub(r'\\brt\\b', '', x).strip()\n",
        "  return rt\n",
        "\n",
        "def remove_special_chars(x):\n",
        "\tx = re.sub(r'[^\\w ]+', \"\", x)\n",
        "\tx = ' '.join(x.split())\n",
        "\treturn x\n",
        "\n",
        "def remove_html_tags(x):\n",
        "  remove = BeautifulSoup(x, 'lxml').get_text().strip()\n",
        "  return remove\n",
        "\n",
        "def remove_accented_chars(x):\n",
        "  x = unicodedata.normalize('NFKD', x).encode('ascii', 'ignore').decode('utf-8', 'ignore')\n",
        "  return x\n",
        "\n",
        "def remove_stopwords(x):\n",
        "  remove = ' '.join([t for t in x.split() if t not in stopwords])\n",
        "  return remove\n",
        "\n",
        "def make_base(x):\n",
        "  x = str(x)\n",
        "  x_list=[]\n",
        "  doc = nlp(x)\n",
        "  for token in doc:\n",
        "    lemma = token.lemma_\n",
        "    if lemma == '-PRON-' or lemma == 'be':\n",
        "      lemma = token.text\n",
        "    x_list.append(lemma)\n",
        "  return ' '.join(x_list)\n",
        "\n",
        "def get_value_counts(df, col):\n",
        "  text = ' '.join(df[col])\n",
        "  text = text.split()\n",
        "  freq = pd.Series(text).value_counts()\n",
        "  return freq\n",
        "\n",
        "def remove_common_words(x, freq, n=20):\n",
        "  fn = freq[:n]\n",
        "  x = ' '.join([t for t in x.split() if t not in fn])\n",
        "  return x\n",
        "\n",
        "def remove_rarewords(x, freq, n=20):\n",
        "  fn = freq.tail(n)\n",
        "  x = ' '.join([t for t in x.split() if t not in fn])\n",
        "  return x\n",
        "\n",
        "def remove_dups_char(x):\n",
        "  x = re.sub(\"(.)\\\\1{2,}\", \"\\\\1\", x)\n",
        "  return x\n",
        "\n",
        "def spelling_correction(x):\n",
        "  x = TextBlob(x).correct()\n",
        "  return x"
      ],
      "execution_count": 30,
      "outputs": []
    },
    {
      "cell_type": "code",
      "metadata": {
        "id": "W7ZNXiw0Q-F3"
      },
      "source": [
        "def get_basic_features(data):\n",
        "  if type(df) == pd.core.frame.DataFrame:\n",
        "    df['char_counts'] = df['text'].apply(lambda x:get_charcounts(x))\n",
        "    df['word_counts'] = df['text'].apply(lambda x:get_wordcounts(x))\n",
        "    df['avg_wordlength'] = df['text'].apply(lambda x:get_avg_wordlength(x))\n",
        "    df['stopwords_counts'] = df['text'].apply(lambda x:get_stopwords_counts(x))\n",
        "    df['hashtag_counts'] = df['text'].apply(lambda x:get_hashtag_counts(x))\n",
        "    df['mentions_counts'] = df['text'].apply(lambda x:get_mentions_counts(x))\n",
        "    df['digits_counts'] = df['text'].apply(lambda x:get_digit_counts(x))\n",
        "    df['uppercase_counts'] = df['text'].apply(lambda x:get_uppercase_counts(x))\n",
        "  else:\n",
        "    print('ERROR: This function takes only Pandas DataFrame')"
      ],
      "execution_count": 26,
      "outputs": []
    },
    {
      "cell_type": "code",
      "metadata": {
        "colab": {
          "base_uri": "https://localhost:8080/",
          "height": 513
        },
        "id": "PYKgyoskR-lZ",
        "outputId": "d0ceee69-5d9d-43f8-98cc-d959de43b3a6"
      },
      "source": [
        "df['text'] = df['review']\n",
        "get_basic_features(df)\n",
        "df.head()"
      ],
      "execution_count": 31,
      "outputs": [
        {
          "output_type": "execute_result",
          "data": {
            "text/html": [
              "<div>\n",
              "<style scoped>\n",
              "    .dataframe tbody tr th:only-of-type {\n",
              "        vertical-align: middle;\n",
              "    }\n",
              "\n",
              "    .dataframe tbody tr th {\n",
              "        vertical-align: top;\n",
              "    }\n",
              "\n",
              "    .dataframe thead th {\n",
              "        text-align: right;\n",
              "    }\n",
              "</style>\n",
              "<table border=\"1\" class=\"dataframe\">\n",
              "  <thead>\n",
              "    <tr style=\"text-align: right;\">\n",
              "      <th></th>\n",
              "      <th>review</th>\n",
              "      <th>rating</th>\n",
              "      <th>text</th>\n",
              "      <th>char_counts</th>\n",
              "      <th>word_counts</th>\n",
              "      <th>avg_wordlength</th>\n",
              "      <th>stopwords_counts</th>\n",
              "      <th>hashtag_counts</th>\n",
              "      <th>mentions_counts</th>\n",
              "      <th>digits_counts</th>\n",
              "      <th>uppercase_counts</th>\n",
              "    </tr>\n",
              "  </thead>\n",
              "  <tbody>\n",
              "    <tr>\n",
              "      <th>0</th>\n",
              "      <td>Really nice phone, delivery is so fast that's ...</td>\n",
              "      <td>5</td>\n",
              "      <td>Really nice phone, delivery is so fast that's ...</td>\n",
              "      <td>112</td>\n",
              "      <td>22</td>\n",
              "      <td>5.090909</td>\n",
              "      <td>5</td>\n",
              "      <td>0</td>\n",
              "      <td>0</td>\n",
              "      <td>3</td>\n",
              "      <td>1</td>\n",
              "    </tr>\n",
              "    <tr>\n",
              "      <th>1</th>\n",
              "      <td>Really I m in love wth this mobileMobile is ni...</td>\n",
              "      <td>5</td>\n",
              "      <td>Really I m in love wth this mobileMobile is ni...</td>\n",
              "      <td>102</td>\n",
              "      <td>24</td>\n",
              "      <td>4.250000</td>\n",
              "      <td>6</td>\n",
              "      <td>0</td>\n",
              "      <td>0</td>\n",
              "      <td>3</td>\n",
              "      <td>2</td>\n",
              "    </tr>\n",
              "    <tr>\n",
              "      <th>2</th>\n",
              "      <td>Nice 👍😍 very nice fast delivery 🚚 Flipkart nic...</td>\n",
              "      <td>3</td>\n",
              "      <td>Nice 👍😍 very nice fast delivery 🚚 Flipkart nic...</td>\n",
              "      <td>69</td>\n",
              "      <td>15</td>\n",
              "      <td>4.600000</td>\n",
              "      <td>1</td>\n",
              "      <td>0</td>\n",
              "      <td>0</td>\n",
              "      <td>0</td>\n",
              "      <td>2</td>\n",
              "    </tr>\n",
              "    <tr>\n",
              "      <th>3</th>\n",
              "      <td>realme C21 Camera is not good music is a bit g...</td>\n",
              "      <td>3</td>\n",
              "      <td>realme C21 Camera is not good music is a bit g...</td>\n",
              "      <td>99</td>\n",
              "      <td>24</td>\n",
              "      <td>4.125000</td>\n",
              "      <td>8</td>\n",
              "      <td>0</td>\n",
              "      <td>0</td>\n",
              "      <td>1</td>\n",
              "      <td>2</td>\n",
              "    </tr>\n",
              "    <tr>\n",
              "      <th>4</th>\n",
              "      <td>Very nice phone very powerful process but came...</td>\n",
              "      <td>4</td>\n",
              "      <td>Very nice phone very powerful process but came...</td>\n",
              "      <td>203</td>\n",
              "      <td>46</td>\n",
              "      <td>4.413043</td>\n",
              "      <td>20</td>\n",
              "      <td>0</td>\n",
              "      <td>0</td>\n",
              "      <td>1</td>\n",
              "      <td>1</td>\n",
              "    </tr>\n",
              "  </tbody>\n",
              "</table>\n",
              "</div>"
            ],
            "text/plain": [
              "                                              review  ...  uppercase_counts\n",
              "0  Really nice phone, delivery is so fast that's ...  ...                 1\n",
              "1  Really I m in love wth this mobileMobile is ni...  ...                 2\n",
              "2  Nice 👍😍 very nice fast delivery 🚚 Flipkart nic...  ...                 2\n",
              "3  realme C21 Camera is not good music is a bit g...  ...                 2\n",
              "4  Very nice phone very powerful process but came...  ...                 1\n",
              "\n",
              "[5 rows x 11 columns]"
            ]
          },
          "metadata": {
            "tags": []
          },
          "execution_count": 31
        }
      ]
    },
    {
      "cell_type": "code",
      "metadata": {
        "id": "FuS6eeQwSHUd"
      },
      "source": [
        "def get_clean(x):\n",
        "  x = str(x).lower().replace('\\\\', '').replace('_', ' ')\n",
        "  x = remove_emails(x)\n",
        "  x = remove_urls(x)\n",
        "  x = remove_html_tags(x)\n",
        "  x = remove_rt(x)\n",
        "  x = remove_accented_chars(x)\n",
        "  x = remove_special_chars(x)\n",
        "  x = re.sub(\"(.)\\\\1{2,}\", \"\\\\1\", x)\n",
        "  x = make_base(x)\n",
        "  x = remove_stopwords(x)\n",
        "  make_base\n",
        "\n",
        "  return x"
      ],
      "execution_count": 32,
      "outputs": []
    },
    {
      "cell_type": "code",
      "metadata": {
        "id": "HG2gnqQ_TUJQ"
      },
      "source": [
        "df['clean_text'] = df['text'].apply(lambda x:get_clean(x))\n",
        "clean_df = df[['review', 'rating', 'clean_text']]"
      ],
      "execution_count": 33,
      "outputs": []
    },
    {
      "cell_type": "code",
      "metadata": {
        "colab": {
          "base_uri": "https://localhost:8080/",
          "height": 204
        },
        "id": "8YQicWOATe1U",
        "outputId": "98d1ac1f-6e06-4a1c-c384-f794c9d23673"
      },
      "source": [
        "clean_df.head()"
      ],
      "execution_count": 34,
      "outputs": [
        {
          "output_type": "execute_result",
          "data": {
            "text/html": [
              "<div>\n",
              "<style scoped>\n",
              "    .dataframe tbody tr th:only-of-type {\n",
              "        vertical-align: middle;\n",
              "    }\n",
              "\n",
              "    .dataframe tbody tr th {\n",
              "        vertical-align: top;\n",
              "    }\n",
              "\n",
              "    .dataframe thead th {\n",
              "        text-align: right;\n",
              "    }\n",
              "</style>\n",
              "<table border=\"1\" class=\"dataframe\">\n",
              "  <thead>\n",
              "    <tr style=\"text-align: right;\">\n",
              "      <th></th>\n",
              "      <th>review</th>\n",
              "      <th>rating</th>\n",
              "      <th>clean_text</th>\n",
              "    </tr>\n",
              "  </thead>\n",
              "  <tbody>\n",
              "    <tr>\n",
              "      <th>0</th>\n",
              "      <td>Really nice phone, delivery is so fast that's ...</td>\n",
              "      <td>5</td>\n",
              "      <td>nice phone delivery fast s excellent good batt...</td>\n",
              "    </tr>\n",
              "    <tr>\n",
              "      <th>1</th>\n",
              "      <td>Really I m in love wth this mobileMobile is ni...</td>\n",
              "      <td>5</td>\n",
              "      <td>m love wth mobilemobile nice model nd attracti...</td>\n",
              "    </tr>\n",
              "    <tr>\n",
              "      <th>2</th>\n",
              "      <td>Nice 👍😍 very nice fast delivery 🚚 Flipkart nic...</td>\n",
              "      <td>3</td>\n",
              "      <td>nice nice fast delivery flipkart nice mobile p...</td>\n",
              "    </tr>\n",
              "    <tr>\n",
              "      <th>3</th>\n",
              "      <td>realme C21 Camera is not good music is a bit g...</td>\n",
              "      <td>3</td>\n",
              "      <td>realme c21 camera good music bit good display ...</td>\n",
              "    </tr>\n",
              "    <tr>\n",
              "      <th>4</th>\n",
              "      <td>Very nice phone very powerful process but came...</td>\n",
              "      <td>4</td>\n",
              "      <td>nice phone powerful process camera good accept...</td>\n",
              "    </tr>\n",
              "  </tbody>\n",
              "</table>\n",
              "</div>"
            ],
            "text/plain": [
              "                                              review  ...                                         clean_text\n",
              "0  Really nice phone, delivery is so fast that's ...  ...  nice phone delivery fast s excellent good batt...\n",
              "1  Really I m in love wth this mobileMobile is ni...  ...  m love wth mobilemobile nice model nd attracti...\n",
              "2  Nice 👍😍 very nice fast delivery 🚚 Flipkart nic...  ...  nice nice fast delivery flipkart nice mobile p...\n",
              "3  realme C21 Camera is not good music is a bit g...  ...  realme c21 camera good music bit good display ...\n",
              "4  Very nice phone very powerful process but came...  ...  nice phone powerful process camera good accept...\n",
              "\n",
              "[5 rows x 3 columns]"
            ]
          },
          "metadata": {
            "tags": []
          },
          "execution_count": 34
        }
      ]
    },
    {
      "cell_type": "code",
      "metadata": {
        "colab": {
          "base_uri": "https://localhost:8080/"
        },
        "id": "00N9wT_0Tijp",
        "outputId": "901bbadb-11a5-4b46-f12e-7a3ce1cf128e"
      },
      "source": [
        "# training vectorizer\n",
        "vectorizer = TfidfVectorizer(max_features=20000, ngram_range=(1,3), analyzer='char')\n",
        "X = vectorizer.fit_transform(clean_df['clean_text'])\n",
        "# splitting data\n",
        "X_train, X_test, y_train, y_test = train_test_split(X, clean_df['rating'], test_size=0.2, random_state=42)\n",
        "# building classifier\n",
        "clf=LinearSVC(class_weight='balanced')\n",
        "clf.fit(X_train, y_train)"
      ],
      "execution_count": 38,
      "outputs": [
        {
          "output_type": "execute_result",
          "data": {
            "text/plain": [
              "LinearSVC(C=1.0, class_weight='balanced', dual=True, fit_intercept=True,\n",
              "          intercept_scaling=1, loss='squared_hinge', max_iter=1000,\n",
              "          multi_class='ovr', penalty='l2', random_state=None, tol=0.0001,\n",
              "          verbose=0)"
            ]
          },
          "metadata": {
            "tags": []
          },
          "execution_count": 38
        }
      ]
    },
    {
      "cell_type": "code",
      "metadata": {
        "colab": {
          "base_uri": "https://localhost:8080/"
        },
        "id": "RKhO5ZMCUl-W",
        "outputId": "f66f1cb6-4a75-441f-b703-4d30d696d746"
      },
      "source": [
        "# predicting\n",
        "y_pred = clf.predict(X_test)\n",
        "# show confusion metrics\n",
        "print(\"Accuracy Score {}%\".format(round((accuracy_score(y_test,y_pred)*100),2)))\n",
        "print(\"Classification report: {}\".format(classification_report(y_test,y_pred)))"
      ],
      "execution_count": 39,
      "outputs": [
        {
          "output_type": "stream",
          "text": [
            "Accuracy Score 56.78%\n",
            "Classification report:               precision    recall  f1-score   support\n",
            "\n",
            "           1       0.44      0.41      0.42        17\n",
            "           2       0.00      0.00      0.00         8\n",
            "           3       0.17      0.17      0.17        18\n",
            "           4       0.14      0.10      0.12        50\n",
            "           5       0.71      0.78      0.74       180\n",
            "\n",
            "    accuracy                           0.57       273\n",
            "   macro avg       0.29      0.29      0.29       273\n",
            "weighted avg       0.53      0.57      0.55       273\n",
            "\n"
          ],
          "name": "stdout"
        }
      ]
    },
    {
      "cell_type": "code",
      "metadata": {
        "colab": {
          "base_uri": "https://localhost:8080/",
          "height": 286
        },
        "id": "Xn0lbPk1U_SR",
        "outputId": "6819cdea-ca31-428b-c85a-37f4f1ba4063"
      },
      "source": [
        "sns.heatmap(confusion_matrix(y_test,y_pred), annot=True, cmap='Blues')"
      ],
      "execution_count": 42,
      "outputs": [
        {
          "output_type": "execute_result",
          "data": {
            "text/plain": [
              "<matplotlib.axes._subplots.AxesSubplot at 0x7f43dcba74d0>"
            ]
          },
          "metadata": {
            "tags": []
          },
          "execution_count": 42
        },
        {
          "output_type": "display_data",
          "data": {
            "image/png": "[encoded data removed]",
            "text/plain": [
              "<Figure size 432x288 with 2 Axes>"
            ]
          },
          "metadata": {
            "tags": [],
            "needs_background": "light"
          }
        }
      ]
    },
    {
      "cell_type": "code",
      "metadata": {
        "id": "pj-ZaOKkVD1K"
      },
      "source": [
        "def pred(msg):\n",
        "  msg=get_clean(msg)\n",
        "  vec=vectorizer.transform([msg])\n",
        "  prediction = clf.predict(vec)\n",
        "  return print(prediction)"
      ],
      "execution_count": 43,
      "outputs": []
    },
    {
      "cell_type": "code",
      "metadata": {
        "colab": {
          "base_uri": "https://localhost:8080/"
        },
        "id": "-6_W3c7eVNaW",
        "outputId": "15e3793c-e63a-4434-8f93-fa072969b2c4"
      },
      "source": [
        "pred(\"Do you want order box, chat me!\")"
      ],
      "execution_count": 48,
      "outputs": [
        {
          "output_type": "stream",
          "text": [
            "[5]\n"
          ],
          "name": "stdout"
        }
      ]
    },
    {
      "cell_type": "code",
      "metadata": {
        "colab": {
          "base_uri": "https://localhost:8080/"
        },
        "id": "0bnqPYQtVSHe",
        "outputId": "87029f78-7d7e-43c4-e40b-e4783ece6bd1"
      },
      "source": [
        "pred(\"Bad experience ever\")"
      ],
      "execution_count": 47,
      "outputs": [
        {
          "output_type": "stream",
          "text": [
            "[1]\n"
          ],
          "name": "stdout"
        }
      ]
    },
    {
      "cell_type": "code",
      "metadata": {
        "colab": {
          "base_uri": "https://localhost:8080/"
        },
        "id": "M7IKmq0NVT5l",
        "outputId": "ac4362ca-78f2-4a71-943b-8b32776d6c8d"
      },
      "source": [
        "pred(\"I like this phone, original\")"
      ],
      "execution_count": 46,
      "outputs": [
        {
          "output_type": "stream",
          "text": [
            "[4]\n"
          ],
          "name": "stdout"
        }
      ]
    }
  ]
}