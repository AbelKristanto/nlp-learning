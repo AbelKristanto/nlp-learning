{
  "nbformat": 4,
  "nbformat_minor": 0,
  "metadata": {
    "colab": {
      "name": "spaCy-nlp-spam-analysis.ipynb",
      "provenance": [],
      "authorship_tag": "ABX9TyNs7MQdPw4VADVoVxu6v4J5"
    },
    "kernelspec": {
      "name": "python3",
      "display_name": "Python 3"
    },
    "language_info": {
      "name": "python"
    }
  },
  "cells": [
    {
      "cell_type": "markdown",
      "metadata": {
        "id": "k4kr-OEhmIcr"
      },
      "source": [
        "**Remarks**\n",
        "\n",
        "In this notebook, we weill learn about spam-messaging-classification using spaCy. Yeayy! I used this dataset to analyze (check: https://www.kaggle.com/uciml/sms-spam-collection-dataset). Let's started!"
      ]
    },
    {
      "cell_type": "code",
      "metadata": {
        "id": "wyp70PN-ll42"
      },
      "source": [
        "# importing libraries\n",
        "# 1. NLP tools\n",
        "import re \n",
        "import string\n",
        "import spacy\n",
        "from spacy.lang.en.stop_words import STOP_WORDS\n",
        "from spacy.lang.en import English\n",
        "\n",
        "# 2. Preprocessing tools\n",
        "import numpy as np\n",
        "import pandas as pd\n",
        "\n",
        "# 3. Modelling tools\n",
        "from sklearn.model_selection import train_test_split\n",
        "from sklearn.feature_extraction.text import TfidfVectorizer\n",
        "from sklearn.metrics import accuracy_score, confusion_matrix, classification_report\n",
        "from sklearn.naive_bayes import MultinomialNB\n",
        "from sklearn.pipeline import Pipeline\n",
        "\n",
        "# 4. Visualization tools\n",
        "import matplotlib.pyplot as plt\n",
        "%matplotlib inline\n",
        "import seaborn as sns\n",
        "import plotly.express as px\n",
        "# !pip install --upgrade plotly\n",
        "\n",
        "import warnings\n",
        "warnings.filterwarnings('ignore')"
      ],
      "execution_count": 5,
      "outputs": []
    },
    {
      "cell_type": "code",
      "metadata": {
        "colab": {
          "base_uri": "https://localhost:8080/",
          "height": 204
        },
        "id": "jr0580XSmg4Q",
        "outputId": "c6aaccbc-2806-4e4f-e7b5-a8338fabfc11"
      },
      "source": [
        "# loading dataset\n",
        "data = pd.read_csv('../content/spam-kaggle.csv',sep=',',names=['label','message'], encoding='ISO-8859-1')\n",
        "data.reset_index(inplace=True)\n",
        "data = data.drop(['label', 'level_2', 'message'], axis=1)\n",
        "data = data.rename(columns={'level_0':'label',\n",
        "                            'level_1':'message'})\n",
        "data = data.drop([0], axis=0)\n",
        "data.head()"
      ],
      "execution_count": 7,
      "outputs": [
        {
          "output_type": "execute_result",
          "data": {
            "text/html": [
              "<div>\n",
              "<style scoped>\n",
              "    .dataframe tbody tr th:only-of-type {\n",
              "        vertical-align: middle;\n",
              "    }\n",
              "\n",
              "    .dataframe tbody tr th {\n",
              "        vertical-align: top;\n",
              "    }\n",
              "\n",
              "    .dataframe thead th {\n",
              "        text-align: right;\n",
              "    }\n",
              "</style>\n",
              "<table border=\"1\" class=\"dataframe\">\n",
              "  <thead>\n",
              "    <tr style=\"text-align: right;\">\n",
              "      <th></th>\n",
              "      <th>label</th>\n",
              "      <th>message</th>\n",
              "    </tr>\n",
              "  </thead>\n",
              "  <tbody>\n",
              "    <tr>\n",
              "      <th>1</th>\n",
              "      <td>ham</td>\n",
              "      <td>Go until jurong point, crazy.. Available only ...</td>\n",
              "    </tr>\n",
              "    <tr>\n",
              "      <th>2</th>\n",
              "      <td>ham</td>\n",
              "      <td>Ok lar... Joking wif u oni...</td>\n",
              "    </tr>\n",
              "    <tr>\n",
              "      <th>3</th>\n",
              "      <td>spam</td>\n",
              "      <td>Free entry in 2 a wkly comp to win FA Cup fina...</td>\n",
              "    </tr>\n",
              "    <tr>\n",
              "      <th>4</th>\n",
              "      <td>ham</td>\n",
              "      <td>U dun say so early hor... U c already then say...</td>\n",
              "    </tr>\n",
              "    <tr>\n",
              "      <th>5</th>\n",
              "      <td>ham</td>\n",
              "      <td>Nah I don't think he goes to usf, he lives aro...</td>\n",
              "    </tr>\n",
              "  </tbody>\n",
              "</table>\n",
              "</div>"
            ],
            "text/plain": [
              "  label                                            message\n",
              "1   ham  Go until jurong point, crazy.. Available only ...\n",
              "2   ham                      Ok lar... Joking wif u oni...\n",
              "3  spam  Free entry in 2 a wkly comp to win FA Cup fina...\n",
              "4   ham  U dun say so early hor... U c already then say...\n",
              "5   ham  Nah I don't think he goes to usf, he lives aro..."
            ]
          },
          "metadata": {
            "tags": []
          },
          "execution_count": 7
        }
      ]
    },
    {
      "cell_type": "code",
      "metadata": {
        "colab": {
          "base_uri": "https://localhost:8080/"
        },
        "id": "Q7LgIJNbnBT7",
        "outputId": "55b035c7-b5a3-49bb-85eb-02c592e9ab70"
      },
      "source": [
        "# counting target\n",
        "data.label.value_counts()"
      ],
      "execution_count": 8,
      "outputs": [
        {
          "output_type": "execute_result",
          "data": {
            "text/plain": [
              "ham     4825\n",
              "spam     747\n",
              "Name: label, dtype: int64"
            ]
          },
          "metadata": {
            "tags": []
          },
          "execution_count": 8
        }
      ]
    },
    {
      "cell_type": "code",
      "metadata": {
        "colab": {
          "base_uri": "https://localhost:8080/"
        },
        "id": "dEjK0Ua5rNr4",
        "outputId": "ffdd9195-7679-42f1-8959-fa5ff1718332"
      },
      "source": [
        "# checking null\n",
        "data.isnull().sum()"
      ],
      "execution_count": 10,
      "outputs": [
        {
          "output_type": "execute_result",
          "data": {
            "text/plain": [
              "label      0\n",
              "message    0\n",
              "dtype: int64"
            ]
          },
          "metadata": {
            "tags": []
          },
          "execution_count": 10
        }
      ]
    },
    {
      "cell_type": "code",
      "metadata": {
        "colab": {
          "base_uri": "https://localhost:8080/",
          "height": 173
        },
        "id": "8GapnU-MrR6J",
        "outputId": "80b3bf01-a84e-445c-f194-1143fc6b1e4a"
      },
      "source": [
        "# showing the most data\n",
        "data.groupby('label').describe()"
      ],
      "execution_count": 11,
      "outputs": [
        {
          "output_type": "execute_result",
          "data": {
            "text/html": [
              "<div>\n",
              "<style scoped>\n",
              "    .dataframe tbody tr th:only-of-type {\n",
              "        vertical-align: middle;\n",
              "    }\n",
              "\n",
              "    .dataframe tbody tr th {\n",
              "        vertical-align: top;\n",
              "    }\n",
              "\n",
              "    .dataframe thead tr th {\n",
              "        text-align: left;\n",
              "    }\n",
              "\n",
              "    .dataframe thead tr:last-of-type th {\n",
              "        text-align: right;\n",
              "    }\n",
              "</style>\n",
              "<table border=\"1\" class=\"dataframe\">\n",
              "  <thead>\n",
              "    <tr>\n",
              "      <th></th>\n",
              "      <th colspan=\"4\" halign=\"left\">message</th>\n",
              "    </tr>\n",
              "    <tr>\n",
              "      <th></th>\n",
              "      <th>count</th>\n",
              "      <th>unique</th>\n",
              "      <th>top</th>\n",
              "      <th>freq</th>\n",
              "    </tr>\n",
              "    <tr>\n",
              "      <th>label</th>\n",
              "      <th></th>\n",
              "      <th></th>\n",
              "      <th></th>\n",
              "      <th></th>\n",
              "    </tr>\n",
              "  </thead>\n",
              "  <tbody>\n",
              "    <tr>\n",
              "      <th>ham</th>\n",
              "      <td>4825</td>\n",
              "      <td>4516</td>\n",
              "      <td>Sorry, I'll call later</td>\n",
              "      <td>30</td>\n",
              "    </tr>\n",
              "    <tr>\n",
              "      <th>spam</th>\n",
              "      <td>747</td>\n",
              "      <td>653</td>\n",
              "      <td>Please call our customer service representativ...</td>\n",
              "      <td>4</td>\n",
              "    </tr>\n",
              "  </tbody>\n",
              "</table>\n",
              "</div>"
            ],
            "text/plain": [
              "      message                                                               \n",
              "        count unique                                                top freq\n",
              "label                                                                       \n",
              "ham      4825   4516                             Sorry, I'll call later   30\n",
              "spam      747    653  Please call our customer service representativ...    4"
            ]
          },
          "metadata": {
            "tags": []
          },
          "execution_count": 11
        }
      ]
    },
    {
      "cell_type": "code",
      "metadata": {
        "colab": {
          "base_uri": "https://localhost:8080/",
          "height": 295
        },
        "id": "zNljVmyzrYjJ",
        "outputId": "41aadb33-b3ff-4a61-b887-cc412d7343dd"
      },
      "source": [
        "# show distribution target\n",
        "sns.countplot(x='label', data=data)\n",
        "data.loc[:, 'label'].value_counts()\n",
        "plt.title('Distribution of Spam and Ham');"
      ],
      "execution_count": 13,
      "outputs": [
        {
          "output_type": "display_data",
          "data": {
            "image/png": "[encoded data removed]",
            "text/plain": [
              "<Figure size 432x288 with 1 Axes>"
            ]
          },
          "metadata": {
            "tags": [],
            "needs_background": "light"
          }
        }
      ]
    },
    {
      "cell_type": "code",
      "metadata": {
        "colab": {
          "base_uri": "https://localhost:8080/",
          "height": 295
        },
        "id": "9PrDDhverm1u",
        "outputId": "a6cc70d8-5b11-4605-de7e-bdd22155dc20"
      },
      "source": [
        "# show distribution length\n",
        "ham = data[data.label == 'ham']['message'].str.len()\n",
        "spam = data[data.label == 'spam']['message'].str.len()\n",
        "sns.distplot(ham, label='ham')\n",
        "sns.distplot(spam, label='spam')\n",
        "plt.title('Distribution by length')\n",
        "plt.legend();"
      ],
      "execution_count": 15,
      "outputs": [
        {
          "output_type": "display_data",
          "data": {
            "image/png": "[encoded data removed]",
            "text/plain": [
              "<Figure size 432x288 with 1 Axes>"
            ]
          },
          "metadata": {
            "tags": [],
            "needs_background": "light"
          }
        }
      ]
    },
    {
      "cell_type": "code",
      "metadata": {
        "colab": {
          "base_uri": "https://localhost:8080/",
          "height": 35
        },
        "id": "_kKPu-qZr9Te",
        "outputId": "78a74d14-eb4e-419c-efff-74042f9d1f40"
      },
      "source": [
        "# cleaning data\n",
        "# 1. create punctuation marks\n",
        "punct = string.punctuation\n",
        "punct"
      ],
      "execution_count": 16,
      "outputs": [
        {
          "output_type": "execute_result",
          "data": {
            "application/vnd.google.colaboratory.intrinsic+json": {
              "type": "string"
            },
            "text/plain": [
              "'!\"#$%&\\'()*+,-./:;<=>?@[\\\\]^_`{|}~'"
            ]
          },
          "metadata": {
            "tags": []
          },
          "execution_count": 16
        }
      ]
    },
    {
      "cell_type": "code",
      "metadata": {
        "id": "bKHFPtybsJIr"
      },
      "source": [
        "# 2. create list of stopwords\n",
        "nlp = spacy.load('en')\n",
        "stopwords = spacy.lang.en.stop_words.STOP_WORDS"
      ],
      "execution_count": 17,
      "outputs": []
    },
    {
      "cell_type": "code",
      "metadata": {
        "id": "jSudyFZosTXZ"
      },
      "source": [
        "# 3. cleaning process\n",
        "def text_data_cleaning(sentence):\n",
        "  doc = nlp(sentence)\n",
        "  # lemmatizing each token and converting into lowercase\n",
        "  tokens = []\n",
        "  for token in doc:\n",
        "    if token.lemma_ != '-PRON-':\n",
        "      temp = token.lemma_.lower().strip()\n",
        "    else:\n",
        "      temp = token.lower_\n",
        "    tokens.append(temp)\n",
        "  cleaned_tokens = []\n",
        "  for token in tokens:\n",
        "    if token not in stopwords and token not in punct:\n",
        "      cleaned_tokens.append(token)\n",
        "  return cleaned_tokens"
      ],
      "execution_count": 19,
      "outputs": []
    },
    {
      "cell_type": "code",
      "metadata": {
        "colab": {
          "base_uri": "https://localhost:8080/"
        },
        "id": "W4M2bC9Ls8Km",
        "outputId": "fde195ea-0d9c-4137-9df8-27308795edf1"
      },
      "source": [
        "check = data['message'].apply(text_data_cleaning)\n",
        "check.head()"
      ],
      "execution_count": 20,
      "outputs": [
        {
          "output_type": "execute_result",
          "data": {
            "text/plain": [
              "1       [jurong, point, crazy, .., available, bugis, n...\n",
              "2                [ok, lar, ..., joking, wif, u, oni, ...]\n",
              "3       [free, entry, 2, wkly, comp, win, fa, cup, fin...\n",
              "4                    [u, dun, early, hor, ..., u, c, ...]\n",
              "5                                 [nah, think, usf, live]\n",
              "                              ...                        \n",
              "5568    [2nd, time, try, 2, contact, u., u, win, å£750...\n",
              "5569                          [ì, b, esplanade, fr, home]\n",
              "5570                        [pity, mood, ..., suggestion]\n",
              "5571    [guy, bitching, act, like, interested, buy, we...\n",
              "5572                                         [rofl, true]\n",
              "Name: message, Length: 5572, dtype: object"
            ]
          },
          "metadata": {
            "tags": []
          },
          "execution_count": 20
        }
      ]
    },
    {
      "cell_type": "code",
      "metadata": {
        "id": "CtZ9IBWqs2Ab"
      },
      "source": [
        "# vectorizing the text\n",
        "tfidf = TfidfVectorizer(tokenizer=text_data_cleaning)"
      ],
      "execution_count": 21,
      "outputs": []
    },
    {
      "cell_type": "code",
      "metadata": {
        "id": "1_ruJEUQtNhT"
      },
      "source": [
        "# building classifier\n",
        "spam_detect_model = MultinomialNB(alpha=1.0)"
      ],
      "execution_count": 29,
      "outputs": []
    },
    {
      "cell_type": "code",
      "metadata": {
        "id": "1KSE33_utUks"
      },
      "source": [
        "# splitting data\n",
        "X = data.message\n",
        "y = data.label"
      ],
      "execution_count": 23,
      "outputs": []
    },
    {
      "cell_type": "code",
      "metadata": {
        "id": "uySRz_iCtZoq"
      },
      "source": [
        "X_train, X_test, y_train, y_test = train_test_split(X, y, test_size=0.1, random_state=42)"
      ],
      "execution_count": 24,
      "outputs": []
    },
    {
      "cell_type": "code",
      "metadata": {
        "colab": {
          "base_uri": "https://localhost:8080/"
        },
        "id": "semeXviUtgzO",
        "outputId": "49a1fe9e-914a-4620-8608-97ce60d5ae8f"
      },
      "source": [
        "print(\"Shape of dataframe\", (X_train.shape, X_test.shape))"
      ],
      "execution_count": 25,
      "outputs": [
        {
          "output_type": "stream",
          "text": [
            "Shape of dataframe ((5014,), (558,))\n"
          ],
          "name": "stdout"
        }
      ]
    },
    {
      "cell_type": "code",
      "metadata": {
        "colab": {
          "base_uri": "https://localhost:8080/"
        },
        "id": "Ry9wuy2ttovs",
        "outputId": "42f7a04a-9237-4b85-b92b-dd6916195662"
      },
      "source": [
        "# creating pipeline of modelling\n",
        "clf = Pipeline([(\"tfidf\",tfidf),\n",
        "                (\"spam_detect_model\",spam_detect_model)\n",
        "                ])\n",
        "clf.fit(X_train, y_train)"
      ],
      "execution_count": 30,
      "outputs": [
        {
          "output_type": "execute_result",
          "data": {
            "text/plain": [
              "Pipeline(memory=None,\n",
              "         steps=[('tfidf',\n",
              "                 TfidfVectorizer(analyzer='word', binary=False,\n",
              "                                 decode_error='strict',\n",
              "                                 dtype=<class 'numpy.float64'>,\n",
              "                                 encoding='utf-8', input='content',\n",
              "                                 lowercase=True, max_df=1.0, max_features=None,\n",
              "                                 min_df=1, ngram_range=(1, 1), norm='l2',\n",
              "                                 preprocessor=None, smooth_idf=True,\n",
              "                                 stop_words=None, strip_accents=None,\n",
              "                                 sublinear_tf=False,\n",
              "                                 token_pattern='(?u)\\\\b\\\\w\\\\w+\\\\b',\n",
              "                                 tokenizer=<function text_data_cleaning at 0x7f99c70b4d40>,\n",
              "                                 use_idf=True, vocabulary=None)),\n",
              "                ('spam_detect_model',\n",
              "                 MultinomialNB(alpha=1.0, class_prior=None, fit_prior=True))],\n",
              "         verbose=False)"
            ]
          },
          "metadata": {
            "tags": []
          },
          "execution_count": 30
        }
      ]
    },
    {
      "cell_type": "code",
      "metadata": {
        "id": "E0cygNeft1ko"
      },
      "source": [
        "# check testing data\n",
        "y_pred = clf.predict(X_test)"
      ],
      "execution_count": 31,
      "outputs": []
    },
    {
      "cell_type": "code",
      "metadata": {
        "colab": {
          "base_uri": "https://localhost:8080/"
        },
        "id": "T9pYkO4dt_bC",
        "outputId": "2377ac7d-e09f-4efe-852b-dc6e7f94be49"
      },
      "source": [
        "# checking accuracy\n",
        "print(\"Confusion Matrix\")\n",
        "print(confusion_matrix(y_test, y_pred))\n",
        "print()\n",
        "print(\"Accuracy Score {}%\".format(round((accuracy_score(y_test,y_pred)*100),2)))\n",
        "print(\"Classification report: {}\".format(classification_report(y_test,y_pred)))"
      ],
      "execution_count": 28,
      "outputs": [
        {
          "output_type": "stream",
          "text": [
            "Confusion Matrix\n",
            "[[491   0]\n",
            " [ 16  51]]\n",
            "\n",
            "Accuracy Score 97.13%\n",
            "Classification report:               precision    recall  f1-score   support\n",
            "\n",
            "         ham       0.97      1.00      0.98       491\n",
            "        spam       1.00      0.76      0.86        67\n",
            "\n",
            "    accuracy                           0.97       558\n",
            "   macro avg       0.98      0.88      0.92       558\n",
            "weighted avg       0.97      0.97      0.97       558\n",
            "\n"
          ],
          "name": "stdout"
        }
      ]
    },
    {
      "cell_type": "code",
      "metadata": {
        "colab": {
          "base_uri": "https://localhost:8080/"
        },
        "id": "l7P-Bim0uId9",
        "outputId": "953b4127-6893-4782-bcad-b4a85bae0f18"
      },
      "source": [
        "# checking accuracy alpha 1.0\n",
        "print(\"Confusion Matrix\")\n",
        "print(confusion_matrix(y_test, y_pred))\n",
        "print()\n",
        "print(\"Accuracy Score {}%\".format(round((accuracy_score(y_test,y_pred)*100),2)))\n",
        "print(\"Classification report: {}\".format(classification_report(y_test,y_pred)))"
      ],
      "execution_count": 32,
      "outputs": [
        {
          "output_type": "stream",
          "text": [
            "Confusion Matrix\n",
            "[[491   0]\n",
            " [ 16  51]]\n",
            "\n",
            "Accuracy Score 97.13%\n",
            "Classification report:               precision    recall  f1-score   support\n",
            "\n",
            "         ham       0.97      1.00      0.98       491\n",
            "        spam       1.00      0.76      0.86        67\n",
            "\n",
            "    accuracy                           0.97       558\n",
            "   macro avg       0.98      0.88      0.92       558\n",
            "weighted avg       0.97      0.97      0.97       558\n",
            "\n"
          ],
          "name": "stdout"
        }
      ]
    },
    {
      "cell_type": "code",
      "metadata": {
        "colab": {
          "base_uri": "https://localhost:8080/",
          "height": 282
        },
        "id": "AmbUVylqueZP",
        "outputId": "dd094780-e991-4614-8d2c-5c2883b53644"
      },
      "source": [
        "sns.heatmap(confusion_matrix(y_test,y_pred), annot=True, cmap='Blues')"
      ],
      "execution_count": 33,
      "outputs": [
        {
          "output_type": "execute_result",
          "data": {
            "text/plain": [
              "<matplotlib.axes._subplots.AxesSubplot at 0x7f99c59d5f10>"
            ]
          },
          "metadata": {
            "tags": []
          },
          "execution_count": 33
        },
        {
          "output_type": "display_data",
          "data": {
            "image/png": "[encoded data removed]",
            "text/plain": [
              "<Figure size 432x288 with 2 Axes>"
            ]
          },
          "metadata": {
            "tags": [],
            "needs_background": "light"
          }
        }
      ]
    },
    {
      "cell_type": "code",
      "metadata": {
        "id": "YNPOdCjZujNm"
      },
      "source": [
        "# trying new messages\n",
        "def pred(msg):\n",
        "  prediction = clf.predict([msg])\n",
        "  return print(prediction)"
      ],
      "execution_count": 36,
      "outputs": []
    },
    {
      "cell_type": "code",
      "metadata": {
        "colab": {
          "base_uri": "https://localhost:8080/"
        },
        "id": "3PmpMlphur52",
        "outputId": "60a83df6-009a-4b6b-a85a-378fe9d96cae"
      },
      "source": [
        "pred(\"I love to watch BTS meal in McD\")"
      ],
      "execution_count": 37,
      "outputs": [
        {
          "output_type": "stream",
          "text": [
            "['ham']\n"
          ],
          "name": "stdout"
        }
      ]
    },
    {
      "cell_type": "code",
      "metadata": {
        "colab": {
          "base_uri": "https://localhost:8080/"
        },
        "id": "QzsDFkF2uuK3",
        "outputId": "1149b291-d02d-452d-f064-6d0a2de637ea"
      },
      "source": [
        "pred(\"Elon musk on the ways to the moon\")"
      ],
      "execution_count": 38,
      "outputs": [
        {
          "output_type": "stream",
          "text": [
            "['ham']\n"
          ],
          "name": "stdout"
        }
      ]
    },
    {
      "cell_type": "code",
      "metadata": {
        "colab": {
          "base_uri": "https://localhost:8080/"
        },
        "id": "cCt3TXQ4uyct",
        "outputId": "558be978-311b-419b-e054-6232570e6a64"
      },
      "source": [
        "pred(\"Free ticket in a comp to win FA Cup final\")"
      ],
      "execution_count": 39,
      "outputs": [
        {
          "output_type": "stream",
          "text": [
            "['spam']\n"
          ],
          "name": "stdout"
        }
      ]
    }
  ]
}