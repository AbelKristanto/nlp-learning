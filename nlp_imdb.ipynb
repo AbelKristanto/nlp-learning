{
  "nbformat": 4,
  "nbformat_minor": 0,
  "metadata": {
    "colab": {
      "name": "nlp-imdb.ipynb",
      "provenance": [],
      "authorship_tag": "ABX9TyNDTfN4lXZV+ySmkUNd6bG5"
    },
    "kernelspec": {
      "name": "python3",
      "display_name": "Python 3"
    },
    "language_info": {
      "name": "python"
    }
  },
  "cells": [
    {
      "cell_type": "markdown",
      "metadata": {
        "id": "A6AuFKrftwnS"
      },
      "source": [
        "**Remarks**\n",
        "\n",
        "In this notebook, we will learn about IMDB-movie-review using word2Vec. Yeayy! I will show to download kaggle into your notebook. Let's started!"
      ]
    },
    {
      "cell_type": "code",
      "metadata": {
        "id": "TJlaqlPbvCSV"
      },
      "source": [
        "!python -m spacy download en_core_web_lg"
      ],
      "execution_count": null,
      "outputs": []
    },
    {
      "cell_type": "code",
      "metadata": {
        "id": "HDMy2PRC9meZ"
      },
      "source": [
        "# import library\n",
        "# 1. dataframe environment\n",
        "import numpy as np \n",
        "import pandas as pd\n",
        "\n",
        "# 2. NLP tools\n",
        "import spacy\n",
        "import en_core_web_lg\n",
        "from spacy.lang.en.stop_words import STOP_WORDS as stopwords\n",
        "import re\n",
        "from bs4 import BeautifulSoup\n",
        "import unicodedata\n",
        "from textblob import TextBlob\n",
        "\n",
        "# 3. Modelling tools\n",
        "from sklearn.model_selection import train_test_split\n",
        "from sklearn.metrics import accuracy_score, confusion_matrix,classification_report\n",
        "from sklearn.linear_model import LogisticRegression\n",
        "from sklearn.svm import LinearSVC\n",
        "\n",
        "# 4. Visualization tools\n",
        "import matplotlib.pyplot as plt\n",
        "import seaborn as sns\n",
        "\n",
        "import warnings\n",
        "warnings.filterwarnings('ignore')"
      ],
      "execution_count": 3,
      "outputs": []
    },
    {
      "cell_type": "code",
      "metadata": {
        "colab": {
          "base_uri": "https://localhost:8080/"
        },
        "id": "DwGacUzdu7Xa",
        "outputId": "71d82489-9206-49e2-85f0-3aece4f6c212"
      },
      "source": [
        "# preparing dataset from KAGGLE\n",
        "!mkdir -p ~/.kaggle\n",
        "!cp kaggle.json ~/.kaggle/\n",
        "!chmod 600 ~/.kaggle/kaggle.json\n",
        "!kaggle datasets download -d lakshmi25npathi/imdb-dataset-of-50k-movie-reviews"
      ],
      "execution_count": 4,
      "outputs": [
        {
          "output_type": "stream",
          "text": [
            "Downloading imdb-dataset-of-50k-movie-reviews.zip to /content\n",
            " 93% 24.0M/25.7M [00:00<00:00, 47.6MB/s]\n",
            "100% 25.7M/25.7M [00:00<00:00, 102MB/s] \n"
          ],
          "name": "stdout"
        }
      ]
    },
    {
      "cell_type": "code",
      "metadata": {
        "colab": {
          "base_uri": "https://localhost:8080/"
        },
        "id": "q8pKw5Euv4rm",
        "outputId": "fb699844-e74c-4dba-b88f-9170b7b1c1f2"
      },
      "source": [
        "# unzipping dataset\n",
        "!unzip \"imdb-dataset-of-50k-movie-reviews.zip\""
      ],
      "execution_count": 6,
      "outputs": [
        {
          "output_type": "stream",
          "text": [
            "Archive:  imdb-dataset-of-50k-movie-reviews.zip\n",
            "  inflating: IMDB Dataset.csv        \n"
          ],
          "name": "stdout"
        }
      ]
    },
    {
      "cell_type": "code",
      "metadata": {
        "colab": {
          "base_uri": "https://localhost:8080/",
          "height": 204
        },
        "id": "u6lfKX2jvZzl",
        "outputId": "dcaa64a9-86ca-4946-cb62-5414064b1356"
      },
      "source": [
        "df = pd.read_csv('IMDB Dataset.csv', sep=',')\n",
        "df.head()"
      ],
      "execution_count": 8,
      "outputs": [
        {
          "output_type": "execute_result",
          "data": {
            "text/html": [
              "<div>\n",
              "<style scoped>\n",
              "    .dataframe tbody tr th:only-of-type {\n",
              "        vertical-align: middle;\n",
              "    }\n",
              "\n",
              "    .dataframe tbody tr th {\n",
              "        vertical-align: top;\n",
              "    }\n",
              "\n",
              "    .dataframe thead th {\n",
              "        text-align: right;\n",
              "    }\n",
              "</style>\n",
              "<table border=\"1\" class=\"dataframe\">\n",
              "  <thead>\n",
              "    <tr style=\"text-align: right;\">\n",
              "      <th></th>\n",
              "      <th>review</th>\n",
              "      <th>sentiment</th>\n",
              "    </tr>\n",
              "  </thead>\n",
              "  <tbody>\n",
              "    <tr>\n",
              "      <th>0</th>\n",
              "      <td>One of the other reviewers has mentioned that ...</td>\n",
              "      <td>positive</td>\n",
              "    </tr>\n",
              "    <tr>\n",
              "      <th>1</th>\n",
              "      <td>A wonderful little production. &lt;br /&gt;&lt;br /&gt;The...</td>\n",
              "      <td>positive</td>\n",
              "    </tr>\n",
              "    <tr>\n",
              "      <th>2</th>\n",
              "      <td>I thought this was a wonderful way to spend ti...</td>\n",
              "      <td>positive</td>\n",
              "    </tr>\n",
              "    <tr>\n",
              "      <th>3</th>\n",
              "      <td>Basically there's a family where a little boy ...</td>\n",
              "      <td>negative</td>\n",
              "    </tr>\n",
              "    <tr>\n",
              "      <th>4</th>\n",
              "      <td>Petter Mattei's \"Love in the Time of Money\" is...</td>\n",
              "      <td>positive</td>\n",
              "    </tr>\n",
              "  </tbody>\n",
              "</table>\n",
              "</div>"
            ],
            "text/plain": [
              "                                              review sentiment\n",
              "0  One of the other reviewers has mentioned that ...  positive\n",
              "1  A wonderful little production. <br /><br />The...  positive\n",
              "2  I thought this was a wonderful way to spend ti...  positive\n",
              "3  Basically there's a family where a little boy ...  negative\n",
              "4  Petter Mattei's \"Love in the Time of Money\" is...  positive"
            ]
          },
          "metadata": {
            "tags": []
          },
          "execution_count": 8
        }
      ]
    },
    {
      "cell_type": "code",
      "metadata": {
        "id": "a5LnRIbZxpOw"
      },
      "source": [
        "# preparing modelling NLP\n",
        "nlp = en_core_web_lg.load()"
      ],
      "execution_count": 21,
      "outputs": []
    },
    {
      "cell_type": "code",
      "metadata": {
        "id": "23tKRAzNvlHU"
      },
      "source": [
        "# function NLP, you can check in materi 02\n",
        "def get_wordcounts(x):\n",
        "  length = len(str(x).split())\n",
        "  return length\n",
        "\n",
        "def get_charcounts(x):\n",
        "  s = x.split()\n",
        "  x = ''.join(s)\n",
        "  return len(x)\n",
        "\n",
        "def get_avg_wordlength(x):\n",
        "\tcount = get_charcounts(x)/get_wordcounts(x)\n",
        "\treturn count\n",
        "\n",
        "def get_stopwords_counts(x):\n",
        "\tl = len([t for t in x.split() if t in stopwords])\n",
        "\treturn l\n",
        "\n",
        "def get_hashtag_counts(x):\n",
        "\tl = len([t for t in x.split() if t.startswith('#')])\n",
        "\treturn l\n",
        "\n",
        "def get_mentions_counts(x):\n",
        "\tl = len([t for t in x.split() if t.startswith('@')])\n",
        "\treturn l\n",
        "\n",
        "def get_digit_counts(x):\n",
        "\tdigits = re.findall(r'[0-9,.]+', x)\n",
        "\treturn len(digits)\n",
        "\n",
        "def get_digit_counts(x):\n",
        "\tdigits = re.findall(r'[0-9,.]+', x)\n",
        "\treturn len(digits)\n",
        "\n",
        "def get_uppercase_counts(x):\n",
        "  x = len([t for t in x.split() if t.isupper()])\n",
        "  return x\n",
        "\n",
        "def get_emails(x):\n",
        "\temails = re.findall(r'([a-z0-9+._-]+@[a-z0-9+._-]+\\.[a-z0-9+_-]+\\b)', x)\n",
        "\tcounts = len(emails)\n",
        "\n",
        "\treturn counts, emails\n",
        "\n",
        "\n",
        "def get_urls(x):\n",
        "\turls = re.findall(r'(http|https|ftp|ssh)://([\\w_-]+(?:(?:\\.[\\w_-]+)+))([\\w.,@?^=%&:/~+#-]*[\\w@?^=%&/~+#-])?', x)\n",
        "\tcounts = len(urls)\n",
        "\n",
        "\treturn counts, urls\n",
        "\n",
        "def make_base(x):\n",
        "\tx = str(x)\n",
        "\tx_list = []\n",
        "\tdoc = nlp(x)\n",
        "\t\n",
        "\tfor token in doc:\n",
        "\t\tlemma = token.lemma_\n",
        "\t\tif lemma == '-PRON-' or lemma == 'be':\n",
        "\t\t\tlemma = token.text\n",
        "\n",
        "\t\tx_list.append(lemma)\n",
        "\treturn ' '.join(x_list)\n",
        "\n",
        "def get_value_counts(df, col):\n",
        "\ttext = ' '.join(df[col])\n",
        "\ttext = text.split()\n",
        "\tfreq = pd.Series(text).value_counts()\n",
        "\treturn freq\n",
        "\n",
        "def spelling_correction(x):\n",
        "\tx = TextBlob(x).correct()\n",
        "\treturn x\n",
        "\n",
        "def get_basic_features(df):\n",
        "\tif type(df) == pd.core.frame.DataFrame:\n",
        "\t\tdf['char_counts'] = df['text'].apply(lambda x:get_charcounts(x))\n",
        "\t\tdf['word_counts'] = df['text'].apply(lambda x:get_wordcounts(x))\n",
        "\t\tdf['avg_wordlength'] = df['text'].apply(lambda x:get_avg_wordlength(x))\n",
        "\t\tdf['stopwords_counts'] = df['text'].apply(lambda x:get_stopwords_counts(x))\n",
        "\t\tdf['hashtag_counts'] = df['text'].apply(lambda x:get_hashtag_counts(x))\n",
        "\t\tdf['mentions_counts'] = df['text'].apply(lambda x:get_mentions_counts(x))\n",
        "\t\tdf['digits_counts'] = df['text'].apply(lambda x:get_digit_counts(x))\n",
        "\t\tdf['uppercase_counts'] = df['text'].apply(lambda x:get_uppercase_counts(x))\n",
        "\telse:\n",
        "\t\tprint('ERROR: This function takes only Pandas DataFrame')"
      ],
      "execution_count": 10,
      "outputs": []
    },
    {
      "cell_type": "code",
      "metadata": {
        "id": "eHGQMumFwqZZ"
      },
      "source": [
        "# function NLP, you can check in materi 02\n",
        "def remove_urls(x):\n",
        "  y = re.sub(r'(http|https|ftp|ssh)://([\\w_-]+(?:(?:\\.[\\w_-]+)+))([\\w.,@?^=%&:/~+#-]*[\\w@?^=%&/~+#-])?', '' , x)\n",
        "  return y\n",
        "\n",
        "def remove_emails(x):\n",
        "  y = re.sub(r'([a-z0-9+._-]+@[a-z0-9+._-]+\\.[a-z0-9+_-]+)',\"\", x)\n",
        "  return y\n",
        "\n",
        "def remove_rt(x):\n",
        "  y = re.sub(r'\\brt\\b', '', x).strip()\n",
        "  return y\n",
        "\n",
        "def remove_special_chars(x):\n",
        "\tx = re.sub(r'[^\\w ]+', \"\", x)\n",
        "\tx = ' '.join(x.split())\n",
        "\treturn x\n",
        "\n",
        "def remove_html_tags(x):\n",
        "  y = BeautifulSoup(x, 'lxml').get_text().strip()\n",
        "  return y\n",
        "\n",
        "def remove_accented_chars(x):\n",
        "\tx = unicodedata.normalize('NFKD', x).encode('ascii', 'ignore').decode('utf-8', 'ignore')\n",
        "\treturn x\n",
        "\n",
        "def remove_stopwords(x):\n",
        "  y = ' '.join([t for t in x.split() if t not in stopwords])\n",
        "  return y\n",
        "\n",
        "def remove_common_words(x, freq, n=20):\n",
        "\tfn = freq[:n]\n",
        "\tx = ' '.join([t for t in x.split() if t not in fn])\n",
        "\treturn x\n",
        "\n",
        "def remove_rarewords(x, freq, n=20):\n",
        "\tfn = freq.tail(n)\n",
        "\tx = ' '.join([t for t in x.split() if t not in fn])\n",
        "\treturn x\n",
        "\n",
        "def remove_dups_char(x):\n",
        "\tx = re.sub(\"(.)\\\\1{2,}\", \"\\\\1\", x)\n",
        "\treturn x"
      ],
      "execution_count": 15,
      "outputs": []
    },
    {
      "cell_type": "code",
      "metadata": {
        "id": "TSPX2xHmxggq"
      },
      "source": [
        "def get_clean(x):\n",
        "    x = str(x).lower().replace('\\\\', '').replace('_', ' ')\n",
        "    x = remove_emails(x)\n",
        "    x = remove_urls(x)\n",
        "    x = remove_html_tags(x)\n",
        "    x = remove_rt(x)\n",
        "    x = remove_accented_chars(x)\n",
        "    x = remove_special_chars(x)\n",
        "    x = re.sub(\"(.)\\\\1{2,}\", \"\\\\1\", x)\n",
        "    x = make_base(x)\n",
        "    x = remove_stopwords(x)\n",
        "    make_base\n",
        "        \n",
        "    return x"
      ],
      "execution_count": 19,
      "outputs": []
    },
    {
      "cell_type": "code",
      "metadata": {
        "colab": {
          "base_uri": "https://localhost:8080/",
          "height": 204
        },
        "id": "IwieHSk6xKTL",
        "outputId": "a1a1c810-c748-4f85-aaaa-008fdfeaf806"
      },
      "source": [
        "# cleaning data\n",
        "df['review'] = df['review'].apply(lambda x:get_clean(x))\n",
        "df.head()"
      ],
      "execution_count": 22,
      "outputs": [
        {
          "output_type": "execute_result",
          "data": {
            "text/html": [
              "<div>\n",
              "<style scoped>\n",
              "    .dataframe tbody tr th:only-of-type {\n",
              "        vertical-align: middle;\n",
              "    }\n",
              "\n",
              "    .dataframe tbody tr th {\n",
              "        vertical-align: top;\n",
              "    }\n",
              "\n",
              "    .dataframe thead th {\n",
              "        text-align: right;\n",
              "    }\n",
              "</style>\n",
              "<table border=\"1\" class=\"dataframe\">\n",
              "  <thead>\n",
              "    <tr style=\"text-align: right;\">\n",
              "      <th></th>\n",
              "      <th>review</th>\n",
              "      <th>sentiment</th>\n",
              "    </tr>\n",
              "  </thead>\n",
              "  <tbody>\n",
              "    <tr>\n",
              "      <th>0</th>\n",
              "      <td>reviewer mention watch 1 oz episode hook right...</td>\n",
              "      <td>positive</td>\n",
              "    </tr>\n",
              "    <tr>\n",
              "      <th>1</th>\n",
              "      <td>wonderful little production filming technique ...</td>\n",
              "      <td>positive</td>\n",
              "    </tr>\n",
              "    <tr>\n",
              "      <th>2</th>\n",
              "      <td>think wonderful way spend time hot summer week...</td>\n",
              "      <td>positive</td>\n",
              "    </tr>\n",
              "    <tr>\n",
              "      <th>3</th>\n",
              "      <td>basically s family little boy jake think s zom...</td>\n",
              "      <td>negative</td>\n",
              "    </tr>\n",
              "    <tr>\n",
              "      <th>4</th>\n",
              "      <td>petter matteis love time money visually stunni...</td>\n",
              "      <td>positive</td>\n",
              "    </tr>\n",
              "  </tbody>\n",
              "</table>\n",
              "</div>"
            ],
            "text/plain": [
              "                                              review sentiment\n",
              "0  reviewer mention watch 1 oz episode hook right...  positive\n",
              "1  wonderful little production filming technique ...  positive\n",
              "2  think wonderful way spend time hot summer week...  positive\n",
              "3  basically s family little boy jake think s zom...  negative\n",
              "4  petter matteis love time money visually stunni...  positive"
            ]
          },
          "metadata": {
            "tags": []
          },
          "execution_count": 22
        }
      ]
    },
    {
      "cell_type": "code",
      "metadata": {
        "colab": {
          "base_uri": "https://localhost:8080/",
          "height": 289
        },
        "id": "RmQohhivxceA",
        "outputId": "364d0a19-71d7-4997-ebf1-0db7dde7611d"
      },
      "source": [
        "# word2vec conversion \n",
        "def get_vec(x):\n",
        "  doc = nlp(x)\n",
        "  vec = doc.vector\n",
        "  return vec\n",
        "\n",
        "df['vec'] = df['review'].apply(lambda x: get_vec(x))\n",
        "df.head()"
      ],
      "execution_count": 23,
      "outputs": [
        {
          "output_type": "execute_result",
          "data": {
            "text/html": [
              "<div>\n",
              "<style scoped>\n",
              "    .dataframe tbody tr th:only-of-type {\n",
              "        vertical-align: middle;\n",
              "    }\n",
              "\n",
              "    .dataframe tbody tr th {\n",
              "        vertical-align: top;\n",
              "    }\n",
              "\n",
              "    .dataframe thead th {\n",
              "        text-align: right;\n",
              "    }\n",
              "</style>\n",
              "<table border=\"1\" class=\"dataframe\">\n",
              "  <thead>\n",
              "    <tr style=\"text-align: right;\">\n",
              "      <th></th>\n",
              "      <th>review</th>\n",
              "      <th>sentiment</th>\n",
              "      <th>vec</th>\n",
              "    </tr>\n",
              "  </thead>\n",
              "  <tbody>\n",
              "    <tr>\n",
              "      <th>0</th>\n",
              "      <td>reviewer mention watch 1 oz episode hook right...</td>\n",
              "      <td>positive</td>\n",
              "      <td>[-0.11349001, 0.07763749, -0.015776152, 0.0279...</td>\n",
              "    </tr>\n",
              "    <tr>\n",
              "      <th>1</th>\n",
              "      <td>wonderful little production filming technique ...</td>\n",
              "      <td>positive</td>\n",
              "      <td>[-0.01947566, 0.09256802, -0.049783204, 0.0453...</td>\n",
              "    </tr>\n",
              "    <tr>\n",
              "      <th>2</th>\n",
              "      <td>think wonderful way spend time hot summer week...</td>\n",
              "      <td>positive</td>\n",
              "      <td>[-0.042142764, 0.13432778, -0.0149775315, -0.0...</td>\n",
              "    </tr>\n",
              "    <tr>\n",
              "      <th>3</th>\n",
              "      <td>basically s family little boy jake think s zom...</td>\n",
              "      <td>negative</td>\n",
              "      <td>[-0.071977355, -0.022413105, -0.08308465, -0.0...</td>\n",
              "    </tr>\n",
              "    <tr>\n",
              "      <th>4</th>\n",
              "      <td>petter matteis love time money visually stunni...</td>\n",
              "      <td>positive</td>\n",
              "      <td>[0.011353568, 0.10316405, -0.121876426, -0.086...</td>\n",
              "    </tr>\n",
              "  </tbody>\n",
              "</table>\n",
              "</div>"
            ],
            "text/plain": [
              "                                              review  ...                                                vec\n",
              "0  reviewer mention watch 1 oz episode hook right...  ...  [-0.11349001, 0.07763749, -0.015776152, 0.0279...\n",
              "1  wonderful little production filming technique ...  ...  [-0.01947566, 0.09256802, -0.049783204, 0.0453...\n",
              "2  think wonderful way spend time hot summer week...  ...  [-0.042142764, 0.13432778, -0.0149775315, -0.0...\n",
              "3  basically s family little boy jake think s zom...  ...  [-0.071977355, -0.022413105, -0.08308465, -0.0...\n",
              "4  petter matteis love time money visually stunni...  ...  [0.011353568, 0.10316405, -0.121876426, -0.086...\n",
              "\n",
              "[5 rows x 3 columns]"
            ]
          },
          "metadata": {
            "tags": []
          },
          "execution_count": 23
        }
      ]
    },
    {
      "cell_type": "code",
      "metadata": {
        "colab": {
          "base_uri": "https://localhost:8080/",
          "height": 299
        },
        "id": "KD_yHNEd--q6",
        "outputId": "f551e373-f987-4d44-f9aa-04f5f1ec1e50"
      },
      "source": [
        "# showing number of sentiment\n",
        "df.sentiment.value_counts().plot(kind='bar');"
      ],
      "execution_count": 27,
      "outputs": [
        {
          "output_type": "display_data",
          "data": {
            "image/png": "[encoded data removed]",
            "text/plain": [
              "<Figure size 432x288 with 1 Axes>"
            ]
          },
          "metadata": {
            "tags": [],
            "needs_background": "light"
          }
        }
      ]
    },
    {
      "cell_type": "code",
      "metadata": {
        "colab": {
          "base_uri": "https://localhost:8080/"
        },
        "id": "U70CuN5n6FZJ",
        "outputId": "de82313b-eced-450e-fbbb-7bc3f825599b"
      },
      "source": [
        "# splitting data\n",
        "X = df['vec'].to_numpy()\n",
        "X = X.reshape(-1,1) # tranphose\n",
        "X.shape"
      ],
      "execution_count": 28,
      "outputs": [
        {
          "output_type": "execute_result",
          "data": {
            "text/plain": [
              "(50000, 1)"
            ]
          },
          "metadata": {
            "tags": []
          },
          "execution_count": 28
        }
      ]
    },
    {
      "cell_type": "code",
      "metadata": {
        "id": "LwH5Q2v9_ePO"
      },
      "source": [
        "# contatenating data\n",
        "X = np.concatenate(np.concatenate(X, axis=0), axis=0).reshape(-1,300)"
      ],
      "execution_count": 29,
      "outputs": []
    },
    {
      "cell_type": "code",
      "metadata": {
        "id": "8zXDWzdj_sdF"
      },
      "source": [
        "X.shape\n",
        "y = df['sentiment']"
      ],
      "execution_count": 32,
      "outputs": []
    },
    {
      "cell_type": "code",
      "metadata": {
        "colab": {
          "base_uri": "https://localhost:8080/"
        },
        "id": "46PP0fL6_tYa",
        "outputId": "9c62d1a1-6467-412c-cf36-670e7ba1a0ab"
      },
      "source": [
        "# splitting train test\n",
        "X_train, X_test, y_train, y_test = train_test_split(X, y, test_size=0.2, random_state=42)\n",
        "print(\"Number of Training: {}, Number of Testing: {}\".format(X_train.shape, X_test.shape))"
      ],
      "execution_count": 33,
      "outputs": [
        {
          "output_type": "stream",
          "text": [
            "Number of Training: (40000, 300), Number of Testing: (10000, 300)\n"
          ],
          "name": "stdout"
        }
      ]
    },
    {
      "cell_type": "code",
      "metadata": {
        "colab": {
          "base_uri": "https://localhost:8080/"
        },
        "id": "rzTpC1XV_8py",
        "outputId": "a021d588-8955-4ae8-9375-c1b722006b3f"
      },
      "source": [
        "# building classifier\n",
        "clf = LogisticRegression(solver='saga')\n",
        "clf.fit(X_train, y_train)"
      ],
      "execution_count": 34,
      "outputs": [
        {
          "output_type": "execute_result",
          "data": {
            "text/plain": [
              "LogisticRegression(C=1.0, class_weight=None, dual=False, fit_intercept=True,\n",
              "                   intercept_scaling=1, l1_ratio=None, max_iter=100,\n",
              "                   multi_class='auto', n_jobs=None, penalty='l2',\n",
              "                   random_state=None, solver='saga', tol=0.0001, verbose=0,\n",
              "                   warm_start=False)"
            ]
          },
          "metadata": {
            "tags": []
          },
          "execution_count": 34
        }
      ]
    },
    {
      "cell_type": "code",
      "metadata": {
        "id": "sdIPCllQAJGe"
      },
      "source": [
        "# predicting data\n",
        "y_pred = clf.predict(X_test)"
      ],
      "execution_count": 35,
      "outputs": []
    },
    {
      "cell_type": "code",
      "metadata": {
        "colab": {
          "base_uri": "https://localhost:8080/"
        },
        "id": "xGLV7WpiAMfS",
        "outputId": "307e19ed-5601-42dd-d2fe-6d1271b84dd5"
      },
      "source": [
        "# evaluation model\n",
        "print(confusion_matrix(y_test,y_pred))\n",
        "print(\"Accuracy Score {}%\".format(round((accuracy_score(y_test,y_pred)*100),2)))\n",
        "print(classification_report(y_test,y_pred))"
      ],
      "execution_count": 36,
      "outputs": [
        {
          "output_type": "stream",
          "text": [
            "[[4162  799]\n",
            " [ 762 4277]]\n",
            "Accuracy Score 84.39%\n",
            "              precision    recall  f1-score   support\n",
            "\n",
            "    negative       0.85      0.84      0.84      4961\n",
            "    positive       0.84      0.85      0.85      5039\n",
            "\n",
            "    accuracy                           0.84     10000\n",
            "   macro avg       0.84      0.84      0.84     10000\n",
            "weighted avg       0.84      0.84      0.84     10000\n",
            "\n"
          ],
          "name": "stdout"
        }
      ]
    },
    {
      "cell_type": "code",
      "metadata": {
        "colab": {
          "base_uri": "https://localhost:8080/"
        },
        "id": "kgXsOiq1AT9O",
        "outputId": "7d37f796-165e-4f61-ff23-d7286420b2dc"
      },
      "source": [
        "# changing model\n",
        "clf=LinearSVC(class_weight='balanced')\n",
        "clf.fit(X_train,y_train)"
      ],
      "execution_count": 37,
      "outputs": [
        {
          "output_type": "execute_result",
          "data": {
            "text/plain": [
              "LinearSVC(C=1.0, class_weight='balanced', dual=True, fit_intercept=True,\n",
              "          intercept_scaling=1, loss='squared_hinge', max_iter=1000,\n",
              "          multi_class='ovr', penalty='l2', random_state=None, tol=0.0001,\n",
              "          verbose=0)"
            ]
          },
          "metadata": {
            "tags": []
          },
          "execution_count": 37
        }
      ]
    },
    {
      "cell_type": "code",
      "metadata": {
        "id": "EQQzsUHtAX87"
      },
      "source": [
        "y_pred=clf.predict(X_test)"
      ],
      "execution_count": 38,
      "outputs": []
    },
    {
      "cell_type": "code",
      "metadata": {
        "colab": {
          "base_uri": "https://localhost:8080/"
        },
        "id": "rQC4_aclAY88",
        "outputId": "02500d17-62a0-467f-8bed-4f97ecddc9ab"
      },
      "source": [
        "print(confusion_matrix(y_test,y_pred))\n",
        "print(\"Accuracy Score {}%\".format(round((accuracy_score(y_test,y_pred)*100),2)))\n",
        "print(classification_report(y_test,y_pred))"
      ],
      "execution_count": 39,
      "outputs": [
        {
          "output_type": "stream",
          "text": [
            "[[4160  801]\n",
            " [ 755 4284]]\n",
            "Accuracy Score 84.44%\n",
            "              precision    recall  f1-score   support\n",
            "\n",
            "    negative       0.85      0.84      0.84      4961\n",
            "    positive       0.84      0.85      0.85      5039\n",
            "\n",
            "    accuracy                           0.84     10000\n",
            "   macro avg       0.84      0.84      0.84     10000\n",
            "weighted avg       0.84      0.84      0.84     10000\n",
            "\n"
          ],
          "name": "stdout"
        }
      ]
    },
    {
      "cell_type": "code",
      "metadata": {
        "id": "XY9ggElXAaXN"
      },
      "source": [
        "# testing new text\n",
        "def pred(msg):\n",
        "  msg=get_clean(msg)\n",
        "  vec=get_vec(msg)\n",
        "  prediction = clf.predict(vec.reshape(1, -1))\n",
        "  return print(prediction)"
      ],
      "execution_count": 40,
      "outputs": []
    },
    {
      "cell_type": "code",
      "metadata": {
        "id": "thmpc30gDZAP"
      },
      "source": [
        "# testing new text\n",
        "def pred(msg):\n",
        "  msg=get_clean(msg)\n",
        "  vec=get_vec(msg)\n",
        "  prediction = clf.predict(vec.reshape(1, -1))\n",
        "  return prediction[0]"
      ],
      "execution_count": 50,
      "outputs": []
    },
    {
      "cell_type": "code",
      "metadata": {
        "colab": {
          "base_uri": "https://localhost:8080/",
          "height": 35
        },
        "id": "vPURiDryAhce",
        "outputId": "7501ad80-1e4b-43d3-963e-83cdf4b8b56a"
      },
      "source": [
        "pred(\"I think the actor doesn't deserve well\")"
      ],
      "execution_count": 51,
      "outputs": [
        {
          "output_type": "execute_result",
          "data": {
            "application/vnd.google.colaboratory.intrinsic+json": {
              "type": "string"
            },
            "text/plain": [
              "'negative'"
            ]
          },
          "metadata": {
            "tags": []
          },
          "execution_count": 51
        }
      ]
    },
    {
      "cell_type": "code",
      "metadata": {
        "colab": {
          "base_uri": "https://localhost:8080/"
        },
        "id": "BMTKX9LtC6sp",
        "outputId": "c2dcaacc-eee6-413f-b6a0-3bc10a32f360"
      },
      "source": [
        "# saving model\n",
        "joblib.dump(clf, '../content/review-model.pkl', compress=3)"
      ],
      "execution_count": 47,
      "outputs": [
        {
          "output_type": "execute_result",
          "data": {
            "text/plain": [
              "['../content/review-model.pkl']"
            ]
          },
          "metadata": {
            "tags": []
          },
          "execution_count": 47
        }
      ]
    },
    {
      "cell_type": "code",
      "metadata": {
        "id": "ANyF1TikCLJk"
      },
      "source": [
        "# created model in FLASK\n",
        "# install apropriate tools\n",
        "!pip install flask-restplus\n",
        "!pip install flask_ngrok"
      ],
      "execution_count": null,
      "outputs": []
    },
    {
      "cell_type": "code",
      "metadata": {
        "id": "fd9KrKzpCOn_"
      },
      "source": [
        "from flask import Flask\n",
        "from flask_ngrok import run_with_ngrok\n",
        "import werkzeug\n",
        "werkzeug.cached_property = werkzeug.utils.cached_property\n",
        "from flask_restplus import Api, Resource, fields\n",
        "from sklearn.externals import joblib\n",
        "import pandas as pd"
      ],
      "execution_count": 46,
      "outputs": []
    },
    {
      "cell_type": "code",
      "metadata": {
        "id": "wRBXFJxVCRNc"
      },
      "source": [
        "# create API\n",
        "app = Flask(__name__)\n",
        "run_with_ngrok(app)\n",
        "api = Api(\n",
        "    app,\n",
        "    version='1.0',\n",
        "    title='Film Review Prediction Sentiment',\n",
        "    description='Sentiment API'\n",
        ")\n",
        "\n",
        "ns = api.namespace('Prediction',\n",
        "                   description='This is app to know sentiment review')\n",
        "\n",
        "parser = api.parser()\n",
        "\n",
        "parser.add_argument(\n",
        "    'REVIEW',\n",
        "    type=str,\n",
        "    required=True, \n",
        "    help='Review to be analyzed',\n",
        "    location='args'\n",
        ")\n",
        "\n",
        "resource_fields = api.model('Resource', {\n",
        "    'The result': fields.String,\n",
        "})"
      ],
      "execution_count": 53,
      "outputs": []
    },
    {
      "cell_type": "code",
      "metadata": {
        "id": "Ejld1sacC0yI"
      },
      "source": [
        "# load model to FLASK\n",
        "clf = joblib.load('../content/review-model.pkl')\n",
        "\n",
        "@ns.route('/')\n",
        "class ReviewAPI(Resource):\n",
        "\n",
        "    @api.doc(parser=parser)\n",
        "    @api.marshal_with(resource_fields)\n",
        "    def get(self):\n",
        "        args = parser.parse_args()\n",
        "        result = self.predict_proba(args)\n",
        "      \n",
        "        return result, 200\n",
        "  \n",
        "    def predict_proba(self, args):\n",
        "        message = args[\"REVIEW\"]\n",
        "        message_ = pd.DataFrame([message], columns=['message'])\n",
        "      \n",
        "        msg=get_clean(message)\n",
        "        vec=get_vec(msg)\n",
        "        prediction = clf.predict(vec.reshape(1, -1))\n",
        "        return {\n",
        "            \"The result\" : prediction[0]\n",
        "        }"
      ],
      "execution_count": 54,
      "outputs": []
    },
    {
      "cell_type": "code",
      "metadata": {
        "id": "TEiq1X62D45D"
      },
      "source": [
        "if __name__ == '__main__':\n",
        "    app.run()"
      ],
      "execution_count": null,
      "outputs": []
    }
  ]
}