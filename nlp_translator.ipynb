{
  "nbformat": 4,
  "nbformat_minor": 0,
  "metadata": {
    "colab": {
      "name": "nlp-translator.ipynb",
      "provenance": [],
      "authorship_tag": "ABX9TyM6gVILkyN3fcQ9K5b+5qc2"
    },
    "kernelspec": {
      "name": "python3",
      "display_name": "Python 3"
    },
    "language_info": {
      "name": "python"
    }
  },
  "cells": [
    {
      "cell_type": "code",
      "metadata": {
        "id": "tzFt9Kn-i7Gk"
      },
      "source": [
        "# import useful library\n",
        "from collections import Counter\n",
        "import operator\n",
        "import pandas as pd\n",
        "import numpy as np\n",
        "import matplotlib.pyplot as plt\n",
        "import seaborn as sns\n",
        "from wordcloud import WordCloud, STOPWORDS\n",
        "\n",
        "import nltk\n",
        "from nltk.stem import PorterStemmer, WordNetLemmatizer\n",
        "from nltk.corpus import stopwords\n",
        "from nltk.tokenize import word_tokenize, sent_tokenize\n",
        "import re\n",
        "\n",
        "from tensorflow.keras.preprocessing.text import Tokenizer\n",
        "from tensorflow.keras.preprocessing.sequence import pad_sequences\n",
        "from tensorflow.keras.layers import Dense, Flatten, TimeDistributed\n",
        "from tensorflow.keras.layers import RepeatVector, Embedding, Input, LSTM\n",
        "from tensorflow.keras.layers import Conv1D, MaxPool1D, Bidirectional\n",
        "from tensorflow.keras.models import Model\n",
        "\n",
        "import warnings\n",
        "warnings.filterwarnings('ignore')\n",
        "\n",
        "import logging\n",
        "logging.basicConfig(level=logging.INFO)"
      ],
      "execution_count": 1,
      "outputs": []
    },
    {
      "cell_type": "code",
      "metadata": {
        "colab": {
          "base_uri": "https://localhost:8080/"
        },
        "id": "6knCHSqLkruI",
        "outputId": "326c62d5-8b0f-418e-a8de-cea95a87de3a"
      },
      "source": [
        "# import dataset from kaggle\n",
        "!mkdir -p ~/.kaggle\n",
        "!cp kaggle.json ~/.kaggle/\n",
        "!chmod 600 ~/.kaggle/kaggle.json\n",
        "!kaggle datasets download -d harishreddy18/english-to-french"
      ],
      "execution_count": 2,
      "outputs": [
        {
          "output_type": "stream",
          "text": [
            "Downloading english-to-french.zip to /content\n",
            "\r  0% 0.00/2.50M [00:00<?, ?B/s]\n",
            "\r100% 2.50M/2.50M [00:00<00:00, 82.0MB/s]\n"
          ],
          "name": "stdout"
        }
      ]
    },
    {
      "cell_type": "code",
      "metadata": {
        "colab": {
          "base_uri": "https://localhost:8080/"
        },
        "id": "q1ZWReDClIUb",
        "outputId": "16faee66-b8af-4b9d-d7aa-6d241ed1fe7f"
      },
      "source": [
        "\n",
        "# unzipping dataset\n",
        "!unzip \"english-to-french.zip\""
      ],
      "execution_count": 3,
      "outputs": [
        {
          "output_type": "stream",
          "text": [
            "Archive:  english-to-french.zip\n",
            "  inflating: small_vocab_en.csv      \n",
            "  inflating: small_vocab_fr.csv      \n"
          ],
          "name": "stdout"
        }
      ]
    },
    {
      "cell_type": "code",
      "metadata": {
        "id": "IZnJ4sZZlMrZ"
      },
      "source": [
        "df_english = pd.read_csv(\"/content/small_vocab_en.csv\", sep='\\t', names=['english'])\n",
        "df_french = pd.read_csv(\"/content/small_vocab_fr.csv\", sep='\\t', names=['french'])"
      ],
      "execution_count": 5,
      "outputs": []
    },
    {
      "cell_type": "code",
      "metadata": {
        "colab": {
          "base_uri": "https://localhost:8080/"
        },
        "id": "ngGINlLTlXZf",
        "outputId": "53f2c938-86fb-4b49-c59f-f0ac6004cf7a"
      },
      "source": [
        "print(\"Number of dataset English: \", df_english.shape)\n",
        "print(\"Number of dataset French: \", df_french.shape)"
      ],
      "execution_count": 7,
      "outputs": [
        {
          "output_type": "stream",
          "text": [
            "Number of dataset English:  (137860, 1)\n",
            "Number of dataset French:  (137860, 1)\n"
          ],
          "name": "stdout"
        }
      ]
    },
    {
      "cell_type": "code",
      "metadata": {
        "colab": {
          "base_uri": "https://localhost:8080/",
          "height": 252
        },
        "id": "mHxfAHMQlmgg",
        "outputId": "4e35642e-c6f7-4631-cfc8-5f6c7b284ae1"
      },
      "source": [
        "df = pd.concat([df_english, df_french], 1)\n",
        "df.head()"
      ],
      "execution_count": 8,
      "outputs": [
        {
          "output_type": "execute_result",
          "data": {
            "text/html": [
              "<div>\n",
              "<style scoped>\n",
              "    .dataframe tbody tr th:only-of-type {\n",
              "        vertical-align: middle;\n",
              "    }\n",
              "\n",
              "    .dataframe tbody tr th {\n",
              "        vertical-align: top;\n",
              "    }\n",
              "\n",
              "    .dataframe thead th {\n",
              "        text-align: right;\n",
              "    }\n",
              "</style>\n",
              "<table border=\"1\" class=\"dataframe\">\n",
              "  <thead>\n",
              "    <tr style=\"text-align: right;\">\n",
              "      <th></th>\n",
              "      <th>english</th>\n",
              "      <th>french</th>\n",
              "    </tr>\n",
              "  </thead>\n",
              "  <tbody>\n",
              "    <tr>\n",
              "      <th>0</th>\n",
              "      <td>new jersey is sometimes quiet during autumn , ...</td>\n",
              "      <td>new jersey est parfois calme pendant l' automn...</td>\n",
              "    </tr>\n",
              "    <tr>\n",
              "      <th>1</th>\n",
              "      <td>the united states is usually chilly during jul...</td>\n",
              "      <td>les états-unis est généralement froid en juill...</td>\n",
              "    </tr>\n",
              "    <tr>\n",
              "      <th>2</th>\n",
              "      <td>california is usually quiet during march , and...</td>\n",
              "      <td>california est généralement calme en mars , et...</td>\n",
              "    </tr>\n",
              "    <tr>\n",
              "      <th>3</th>\n",
              "      <td>the united states is sometimes mild during jun...</td>\n",
              "      <td>les états-unis est parfois légère en juin , et...</td>\n",
              "    </tr>\n",
              "    <tr>\n",
              "      <th>4</th>\n",
              "      <td>your least liked fruit is the grape , but my l...</td>\n",
              "      <td>votre moins aimé fruit est le raisin , mais mo...</td>\n",
              "    </tr>\n",
              "  </tbody>\n",
              "</table>\n",
              "</div>"
            ],
            "text/plain": [
              "                                             english                                             french\n",
              "0  new jersey is sometimes quiet during autumn , ...  new jersey est parfois calme pendant l' automn...\n",
              "1  the united states is usually chilly during jul...  les états-unis est généralement froid en juill...\n",
              "2  california is usually quiet during march , and...  california est généralement calme en mars , et...\n",
              "3  the united states is sometimes mild during jun...  les états-unis est parfois légère en juin , et...\n",
              "4  your least liked fruit is the grape , but my l...  votre moins aimé fruit est le raisin , mais mo..."
            ]
          },
          "metadata": {},
          "execution_count": 8
        }
      ]
    },
    {
      "cell_type": "code",
      "metadata": {
        "id": "8563HzUzl1mY"
      },
      "source": [
        "# Make a sampel data\n",
        "df_sampel = df.sample(n=35000)"
      ],
      "execution_count": 9,
      "outputs": []
    },
    {
      "cell_type": "code",
      "metadata": {
        "colab": {
          "base_uri": "https://localhost:8080/"
        },
        "id": "5YROq488l8yr",
        "outputId": "3169c5ba-3da2-44a7-ab90-cb9a5b57ddd4"
      },
      "source": [
        "print(\"Shape of dataset sampel:\", df_sampel.shape)"
      ],
      "execution_count": 10,
      "outputs": [
        {
          "output_type": "stream",
          "text": [
            "Shape of dataset sampel: (35000, 2)\n"
          ],
          "name": "stdout"
        }
      ]
    },
    {
      "cell_type": "code",
      "metadata": {
        "id": "qNeomG9nmFhV"
      },
      "source": [
        "# 1. remove punctuation function (CLEANING SECTION)\n",
        "import string\n",
        "def clean_string(info):\n",
        "  clean = [(char) for char in info if char not in string.punctuation]\n",
        "  return \"\".join(clean)"
      ],
      "execution_count": 11,
      "outputs": []
    },
    {
      "cell_type": "code",
      "metadata": {
        "colab": {
          "base_uri": "https://localhost:8080/",
          "height": 252
        },
        "id": "1F1iCMqTmbV3",
        "outputId": "38876b4c-400a-4ca0-e150-8cfd153e14db"
      },
      "source": [
        "df_sampel['english'] = df_sampel['english'].apply(clean_string)\n",
        "df_sampel['french'] = df_sampel['french'].apply(clean_string)\n",
        "df_sampel.head()"
      ],
      "execution_count": 12,
      "outputs": [
        {
          "output_type": "execute_result",
          "data": {
            "text/html": [
              "<div>\n",
              "<style scoped>\n",
              "    .dataframe tbody tr th:only-of-type {\n",
              "        vertical-align: middle;\n",
              "    }\n",
              "\n",
              "    .dataframe tbody tr th {\n",
              "        vertical-align: top;\n",
              "    }\n",
              "\n",
              "    .dataframe thead th {\n",
              "        text-align: right;\n",
              "    }\n",
              "</style>\n",
              "<table border=\"1\" class=\"dataframe\">\n",
              "  <thead>\n",
              "    <tr style=\"text-align: right;\">\n",
              "      <th></th>\n",
              "      <th>english</th>\n",
              "      <th>french</th>\n",
              "    </tr>\n",
              "  </thead>\n",
              "  <tbody>\n",
              "    <tr>\n",
              "      <th>101360</th>\n",
              "      <td>their least favorite fruit is the lemon  but y...</td>\n",
              "      <td>leur fruit préféré est moins le citron  mais v...</td>\n",
              "    </tr>\n",
              "    <tr>\n",
              "      <th>109017</th>\n",
              "      <td>he thinks its difficult to translate french to...</td>\n",
              "      <td>il pense quil est difficile de traduire frança...</td>\n",
              "    </tr>\n",
              "    <tr>\n",
              "      <th>91922</th>\n",
              "      <td>i dislike limes  grapefruit  and grapes</td>\n",
              "      <td>je naime pas citrons verts  le pamplemousse et...</td>\n",
              "    </tr>\n",
              "    <tr>\n",
              "      <th>113547</th>\n",
              "      <td>china is never dry during november  but it is ...</td>\n",
              "      <td>chine est jamais à sec en novembre  mais il es...</td>\n",
              "    </tr>\n",
              "    <tr>\n",
              "      <th>86893</th>\n",
              "      <td>paris is sometimes busy during summer  but it ...</td>\n",
              "      <td>paris est parfois occupé pendant l été  mais i...</td>\n",
              "    </tr>\n",
              "  </tbody>\n",
              "</table>\n",
              "</div>"
            ],
            "text/plain": [
              "                                                  english                                             french\n",
              "101360  their least favorite fruit is the lemon  but y...  leur fruit préféré est moins le citron  mais v...\n",
              "109017  he thinks its difficult to translate french to...  il pense quil est difficile de traduire frança...\n",
              "91922             i dislike limes  grapefruit  and grapes  je naime pas citrons verts  le pamplemousse et...\n",
              "113547  china is never dry during november  but it is ...  chine est jamais à sec en novembre  mais il es...\n",
              "86893   paris is sometimes busy during summer  but it ...  paris est parfois occupé pendant l été  mais i..."
            ]
          },
          "metadata": {},
          "execution_count": 12
        }
      ]
    },
    {
      "cell_type": "code",
      "metadata": {
        "id": "XQvosPQAmp9P"
      },
      "source": [
        "# 2. Splitting dataset\n",
        "from sklearn.model_selection import train_test_split\n",
        "X_train, X_test, y_train, y_test = train_test_split(df_sampel['english'].tolist(), \n",
        "                                                    df_sampel['french'].tolist(),\n",
        "                                                    test_size=0.2, random_state=11)"
      ],
      "execution_count": 13,
      "outputs": []
    },
    {
      "cell_type": "code",
      "metadata": {
        "colab": {
          "base_uri": "https://localhost:8080/"
        },
        "id": "fujs9MnenDAN",
        "outputId": "7db53077-09b7-47b2-aeae-fd3bdb9709b8"
      },
      "source": [
        "# show sampel sentence\n",
        "print(\"Sampel sentence in \\nEnglish: {} \\nFrench: {}\".format(X_train[3], y_train[3]))"
      ],
      "execution_count": 17,
      "outputs": [
        {
          "output_type": "stream",
          "text": [
            "Sampel sentence in \n",
            "English: his most loved fruit is the lemon  but my most loved is the lime  \n",
            "French: son fruit le plus aimé est le citron  mais mon plus aimé est la chaux \n"
          ],
          "name": "stdout"
        }
      ]
    },
    {
      "cell_type": "code",
      "metadata": {
        "id": "5ahFPgzDnZGr"
      },
      "source": [
        "# 3. Preprocessing NLP\n",
        "def preprocess(sentences):\n",
        "  punc = '''!()-[];:'\"\\,<>./?@@$#%^&*_~'''\n",
        "  for sen in sentences:\n",
        "    if sen in punc:\n",
        "      sentences = sentences.replace(sen, \"\")\n",
        "  line = sentences.split()\n",
        "  line = [word.lower() for word in line]\n",
        "  check_re = re.compile('[^%s]' % re.escape(string.printable))\n",
        "  line = [check_re.sub('', w) for w in line]\n",
        "  return \" \".join(line)"
      ],
      "execution_count": 18,
      "outputs": []
    },
    {
      "cell_type": "code",
      "metadata": {
        "id": "ooBvTRS2okGS"
      },
      "source": [
        "english_sentences = []          \n",
        "french_sentences = []         \n",
        "french_sentences_inputs = []"
      ],
      "execution_count": 19,
      "outputs": []
    },
    {
      "cell_type": "code",
      "metadata": {
        "id": "ILql4DnNonNz"
      },
      "source": [
        "for i in range(len(X_train)):\n",
        "  input_sentence = preprocess(X_train[i])\n",
        "  output = y_train[i]\n",
        "  output_sentence = output + ' <eos>'\n",
        "  output_sentence_input = '<sos>' + output\n",
        "\n",
        "  english_sentences.append(input_sentence)\n",
        "  french_sentences.append(output_sentence)\n",
        "  french_sentences_inputs.append(output_sentence_input)"
      ],
      "execution_count": 21,
      "outputs": []
    },
    {
      "cell_type": "code",
      "metadata": {
        "colab": {
          "base_uri": "https://localhost:8080/"
        },
        "id": "fDqR8IEhpEAz",
        "outputId": "d02fa89b-64d9-4bb3-e189-cff2f8cdbeb4"
      },
      "source": [
        "print(\"Number of English samples :\", len(english_sentences))\n",
        "print(\"Number of output samples:\", len(french_sentences))\n",
        "print(\"Number of input output samples:\", len(french_sentences_inputs))"
      ],
      "execution_count": 22,
      "outputs": [
        {
          "output_type": "stream",
          "text": [
            "Number of English samples : 28000\n",
            "Number of output samples: 28000\n",
            "Number of input output samples: 28000\n"
          ],
          "name": "stdout"
        }
      ]
    },
    {
      "cell_type": "code",
      "metadata": {
        "id": "FeqlfRESpJeC"
      },
      "source": [
        "# punctuation in NLTK\n",
        "nltk.download('punkt')"
      ],
      "execution_count": null,
      "outputs": []
    },
    {
      "cell_type": "code",
      "metadata": {
        "id": "Dts9YkQCpOtl"
      },
      "source": [
        ""
      ],
      "execution_count": null,
      "outputs": []
    }
  ]
}